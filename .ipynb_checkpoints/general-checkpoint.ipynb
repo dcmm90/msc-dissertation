{
 "cells": [
  {
   "cell_type": "code",
   "execution_count": 1,
   "metadata": {
    "collapsed": true
   },
   "outputs": [],
   "source": [
    "from __future__ import division\n",
    "import time\n",
    "import pandas as pd\n",
    "import numpy as np\n",
    "from sklearn.metrics import classification_report\n",
    "from sklearn.model_selection import StratifiedKFold\n",
    "import pickle\n",
    "import os.path\n",
    "from zipfile import ZipFile\n",
    "import sys, os\n",
    "from os.path import join, dirname, abspath\n",
    "from pathlib import Path\n",
    "import classification as cl\n",
    "import feature_selection as fs"
   ]
  },
  {
   "cell_type": "code",
   "execution_count": 2,
   "metadata": {
    "collapsed": true
   },
   "outputs": [],
   "source": [
    "def load_data():\n",
    "    beta_file = os.path.realpath('../GSE59685_betas2.csv.zip')\n",
    "    zipfile = ZipFile(beta_file)\n",
    "    zipfile.getinfo('GSE59685_betas2.csv').file_size += (2 ** 64) - 1\n",
    "    betaqn = pd.read_csv(zipfile.open('GSE59685_betas2.csv'),skiprows=(1,2), index_col=0,sep=',')\n",
    "    betaqn = betaqn.T\n",
    "\n",
    "    info = pd.read_csv('info.csv.zip',index_col=1, compression='zip',sep=',')\n",
    "    info = info.drop('Unnamed: 0', 1)\n",
    "\n",
    "    info.loc[(info.braak_stage=='5') | (info.braak_stage=='6'),'braak_bin'] = 1\n",
    "    cond = ((info.braak_stage=='0') | (info.braak_stage=='1') | (info.braak_stage=='2') |\n",
    "            (info.braak_stage=='3') | (info.braak_stage=='4'))\n",
    "    info.loc[cond ,'braak_bin'] = 0\n",
    "    info.loc[info.source_tissue == 'entorhinal cortex', 'tissue'] = 'EC'\n",
    "    info.loc[info.source_tissue == 'whole blood', 'tissue'] = 'WB'\n",
    "    info.loc[info.source_tissue == 'frontal cortex', 'tissue'] = 'FC'\n",
    "    info.loc[info.source_tissue == 'superior temporal gyrus', 'tissue'] = 'STG'\n",
    "    info.loc[info.source_tissue == 'cerebellum', 'tissue'] = 'CER'\n",
    "    return (betaqn, info)"
   ]
  },
  {
   "cell_type": "code",
   "execution_count": 3,
   "metadata": {
    "collapsed": true
   },
   "outputs": [],
   "source": [
    "betaqn, info = load_data()"
   ]
  },
  {
   "cell_type": "code",
   "execution_count": 6,
   "metadata": {
    "collapsed": true
   },
   "outputs": [],
   "source": [
    "tissue = 'EC'"
   ]
  },
  {
   "cell_type": "code",
   "execution_count": 12,
   "metadata": {
    "collapsed": true
   },
   "outputs": [],
   "source": [
    "save_file = os.path.realpath('../data_str_pr_general/')\n",
    "iters_big = 10\n",
    "iters_small = 30\n",
    "big_small = 200\n",
    "feat_sel = 't_test'\n",
    "\n",
    "ec = betaqn.loc[info[(info.tissue == tissue) & (info.braak_stage != 'Exclude')].index]\n",
    "svm_accuracy = {}\n",
    "samples = ec.shape[0]\n",
    "\n",
    "features_num = [20]\n",
    "\n",
    "features_file = save_file + \"/features_%s_%s.p\" % (tissue, feat_sel)\n",
    "my_file = Path(features_file)\n",
    "if my_file.is_file():\n",
    "    features_per_i = pickle.load( open( features_file, \"rb\" ) )\n",
    "else:\n",
    "    print('no features file')\n",
    "\n"
   ]
  },
  {
   "cell_type": "code",
   "execution_count": null,
   "metadata": {},
   "outputs": [],
   "source": []
  },
  {
   "cell_type": "code",
   "execution_count": 36,
   "metadata": {},
   "outputs": [
    {
     "name": "stdout",
     "output_type": "stream",
     "text": [
      "20\n",
      "iteracion 0 para 20 features\n",
      "--- 0.009142875671386719 seconds for feature selection ---\n",
      "features selected\n",
      "entro primeros\n",
      "SVM-rbf\n",
      "Fitting 5 folds for each of 169 candidates, totalling 845 fits\n"
     ]
    },
    {
     "name": "stderr",
     "output_type": "stream",
     "text": [
      "[Parallel(n_jobs=1)]: Done 845 out of 845 | elapsed:    6.4s finished\n"
     ]
    },
    {
     "name": "stdout",
     "output_type": "stream",
     "text": [
      "iteracion 1 para 20 features\n",
      "--- 0.017201900482177734 seconds for feature selection ---\n",
      "features selected\n",
      "entro primeros\n",
      "SVM-rbf\n",
      "Fitting 5 folds for each of 169 candidates, totalling 845 fits\n"
     ]
    },
    {
     "name": "stderr",
     "output_type": "stream",
     "text": [
      "[Parallel(n_jobs=1)]: Done 845 out of 845 | elapsed:    4.4s finished\n"
     ]
    },
    {
     "name": "stdout",
     "output_type": "stream",
     "text": [
      "iteracion 2 para 20 features\n",
      "--- 0.003421783447265625 seconds for feature selection ---\n",
      "features selected\n",
      "entro primeros\n",
      "SVM-rbf\n",
      "Fitting 5 folds for each of 169 candidates, totalling 845 fits\n"
     ]
    },
    {
     "name": "stderr",
     "output_type": "stream",
     "text": [
      "[Parallel(n_jobs=1)]: Done 845 out of 845 | elapsed:    6.1s finished\n"
     ]
    },
    {
     "name": "stdout",
     "output_type": "stream",
     "text": [
      "iteracion 3 para 20 features\n",
      "--- 0.03354382514953613 seconds for feature selection ---\n",
      "features selected\n",
      "entro primeros\n",
      "SVM-rbf\n",
      "Fitting 5 folds for each of 169 candidates, totalling 845 fits\n"
     ]
    },
    {
     "name": "stderr",
     "output_type": "stream",
     "text": [
      "[Parallel(n_jobs=1)]: Done 845 out of 845 | elapsed:    7.4s finished\n"
     ]
    },
    {
     "name": "stdout",
     "output_type": "stream",
     "text": [
      "iteracion 4 para 20 features\n",
      "--- 0.014032125473022461 seconds for feature selection ---\n",
      "features selected\n",
      "entro primeros\n",
      "SVM-rbf\n",
      "Fitting 5 folds for each of 169 candidates, totalling 845 fits\n"
     ]
    },
    {
     "name": "stderr",
     "output_type": "stream",
     "text": [
      "[Parallel(n_jobs=1)]: Done 845 out of 845 | elapsed:    5.4s finished\n"
     ]
    },
    {
     "name": "stdout",
     "output_type": "stream",
     "text": [
      "iteracion 5 para 20 features\n",
      "--- 0.0310819149017334 seconds for feature selection ---\n",
      "features selected\n",
      "entro primeros\n",
      "SVM-rbf\n",
      "Fitting 5 folds for each of 169 candidates, totalling 845 fits\n"
     ]
    },
    {
     "name": "stderr",
     "output_type": "stream",
     "text": [
      "[Parallel(n_jobs=1)]: Done 845 out of 845 | elapsed:    5.4s finished\n"
     ]
    },
    {
     "name": "stdout",
     "output_type": "stream",
     "text": [
      "iteracion 6 para 20 features\n",
      "--- 0.0045430660247802734 seconds for feature selection ---\n",
      "features selected\n",
      "entro primeros\n",
      "SVM-rbf\n",
      "Fitting 5 folds for each of 169 candidates, totalling 845 fits\n"
     ]
    },
    {
     "name": "stderr",
     "output_type": "stream",
     "text": [
      "[Parallel(n_jobs=1)]: Done 845 out of 845 | elapsed:   17.7s finished\n"
     ]
    },
    {
     "name": "stdout",
     "output_type": "stream",
     "text": [
      "iteracion 7 para 20 features\n",
      "--- 0.0018851757049560547 seconds for feature selection ---\n",
      "features selected\n",
      "entro primeros\n",
      "SVM-rbf\n",
      "Fitting 5 folds for each of 169 candidates, totalling 845 fits\n"
     ]
    },
    {
     "name": "stderr",
     "output_type": "stream",
     "text": [
      "[Parallel(n_jobs=1)]: Done 845 out of 845 | elapsed:    6.4s finished\n"
     ]
    },
    {
     "name": "stdout",
     "output_type": "stream",
     "text": [
      "iteracion 8 para 20 features\n",
      "--- 0.0023369789123535156 seconds for feature selection ---\n",
      "features selected\n",
      "entro primeros\n",
      "SVM-rbf\n",
      "Fitting 5 folds for each of 169 candidates, totalling 845 fits\n"
     ]
    },
    {
     "name": "stderr",
     "output_type": "stream",
     "text": [
      "[Parallel(n_jobs=1)]: Done 845 out of 845 | elapsed:    4.9s finished\n"
     ]
    },
    {
     "name": "stdout",
     "output_type": "stream",
     "text": [
      "iteracion 9 para 20 features\n",
      "--- 0.0007150173187255859 seconds for feature selection ---\n",
      "features selected\n",
      "entro primeros\n",
      "SVM-rbf\n",
      "Fitting 5 folds for each of 169 candidates, totalling 845 fits\n"
     ]
    },
    {
     "name": "stderr",
     "output_type": "stream",
     "text": [
      "[Parallel(n_jobs=1)]: Done 845 out of 845 | elapsed:    4.3s finished\n"
     ]
    },
    {
     "name": "stdout",
     "output_type": "stream",
     "text": [
      "iteracion 10 para 20 features\n",
      "--- 0.0015552043914794922 seconds for feature selection ---\n",
      "features selected\n",
      "entro primeros\n",
      "SVM-rbf\n",
      "Fitting 5 folds for each of 169 candidates, totalling 845 fits\n"
     ]
    },
    {
     "name": "stderr",
     "output_type": "stream",
     "text": [
      "[Parallel(n_jobs=1)]: Done 845 out of 845 | elapsed:    5.6s finished\n"
     ]
    },
    {
     "name": "stdout",
     "output_type": "stream",
     "text": [
      "iteracion 11 para 20 features\n",
      "--- 0.0011191368103027344 seconds for feature selection ---\n",
      "features selected\n",
      "entro primeros\n",
      "SVM-rbf\n",
      "Fitting 5 folds for each of 169 candidates, totalling 845 fits\n"
     ]
    },
    {
     "name": "stderr",
     "output_type": "stream",
     "text": [
      "[Parallel(n_jobs=1)]: Done 845 out of 845 | elapsed:    5.3s finished\n"
     ]
    },
    {
     "name": "stdout",
     "output_type": "stream",
     "text": [
      "iteracion 12 para 20 features\n",
      "--- 0.00347900390625 seconds for feature selection ---\n",
      "features selected\n",
      "entro primeros\n",
      "SVM-rbf\n",
      "Fitting 5 folds for each of 169 candidates, totalling 845 fits\n"
     ]
    },
    {
     "name": "stderr",
     "output_type": "stream",
     "text": [
      "[Parallel(n_jobs=1)]: Done 845 out of 845 | elapsed:    5.8s finished\n"
     ]
    },
    {
     "name": "stdout",
     "output_type": "stream",
     "text": [
      "iteracion 13 para 20 features\n",
      "--- 0.004379987716674805 seconds for feature selection ---\n",
      "features selected\n",
      "entro primeros\n",
      "SVM-rbf\n",
      "Fitting 5 folds for each of 169 candidates, totalling 845 fits\n"
     ]
    },
    {
     "name": "stderr",
     "output_type": "stream",
     "text": [
      "[Parallel(n_jobs=1)]: Done 845 out of 845 | elapsed:    5.9s finished\n"
     ]
    },
    {
     "name": "stdout",
     "output_type": "stream",
     "text": [
      "iteracion 14 para 20 features\n",
      "--- 0.060801029205322266 seconds for feature selection ---\n",
      "features selected\n",
      "entro primeros\n",
      "SVM-rbf\n",
      "Fitting 5 folds for each of 169 candidates, totalling 845 fits\n"
     ]
    },
    {
     "name": "stderr",
     "output_type": "stream",
     "text": [
      "[Parallel(n_jobs=1)]: Done 845 out of 845 | elapsed:    6.2s finished\n"
     ]
    },
    {
     "name": "stdout",
     "output_type": "stream",
     "text": [
      "iteracion 15 para 20 features\n",
      "--- 0.00080108642578125 seconds for feature selection ---\n",
      "features selected\n",
      "entro primeros\n",
      "SVM-rbf\n",
      "Fitting 5 folds for each of 169 candidates, totalling 845 fits\n"
     ]
    },
    {
     "name": "stderr",
     "output_type": "stream",
     "text": [
      "[Parallel(n_jobs=1)]: Done 845 out of 845 | elapsed:    6.4s finished\n"
     ]
    },
    {
     "name": "stdout",
     "output_type": "stream",
     "text": [
      "iteracion 16 para 20 features\n",
      "--- 0.22652292251586914 seconds for feature selection ---\n",
      "features selected\n",
      "entro primeros\n",
      "SVM-rbf\n",
      "Fitting 5 folds for each of 169 candidates, totalling 845 fits\n"
     ]
    },
    {
     "name": "stderr",
     "output_type": "stream",
     "text": [
      "[Parallel(n_jobs=1)]: Done 845 out of 845 | elapsed:   13.2s finished\n"
     ]
    },
    {
     "name": "stdout",
     "output_type": "stream",
     "text": [
      "iteracion 17 para 20 features\n",
      "--- 0.0011820793151855469 seconds for feature selection ---\n",
      "features selected\n",
      "entro primeros\n",
      "SVM-rbf\n",
      "Fitting 5 folds for each of 169 candidates, totalling 845 fits\n"
     ]
    },
    {
     "name": "stderr",
     "output_type": "stream",
     "text": [
      "[Parallel(n_jobs=1)]: Done 845 out of 845 | elapsed:    6.9s finished\n"
     ]
    },
    {
     "name": "stdout",
     "output_type": "stream",
     "text": [
      "iteracion 18 para 20 features\n",
      "--- 0.0025968551635742188 seconds for feature selection ---\n",
      "features selected\n",
      "entro primeros\n",
      "SVM-rbf\n",
      "Fitting 5 folds for each of 169 candidates, totalling 845 fits\n"
     ]
    },
    {
     "name": "stderr",
     "output_type": "stream",
     "text": [
      "[Parallel(n_jobs=1)]: Done 845 out of 845 | elapsed:    6.2s finished\n"
     ]
    },
    {
     "name": "stdout",
     "output_type": "stream",
     "text": [
      "iteracion 19 para 20 features\n",
      "--- 0.0014498233795166016 seconds for feature selection ---\n",
      "features selected\n",
      "entro primeros\n",
      "SVM-rbf\n",
      "Fitting 5 folds for each of 169 candidates, totalling 845 fits\n"
     ]
    },
    {
     "name": "stderr",
     "output_type": "stream",
     "text": [
      "[Parallel(n_jobs=1)]: Done 845 out of 845 | elapsed:    6.2s finished\n"
     ]
    },
    {
     "name": "stdout",
     "output_type": "stream",
     "text": [
      "iteracion 20 para 20 features\n",
      "--- 0.0017158985137939453 seconds for feature selection ---\n",
      "features selected\n",
      "entro primeros\n",
      "SVM-rbf\n",
      "Fitting 5 folds for each of 169 candidates, totalling 845 fits\n"
     ]
    },
    {
     "name": "stderr",
     "output_type": "stream",
     "text": [
      "[Parallel(n_jobs=1)]: Done 845 out of 845 | elapsed:    5.9s finished\n"
     ]
    },
    {
     "name": "stdout",
     "output_type": "stream",
     "text": [
      "iteracion 21 para 20 features\n",
      "--- 0.011139154434204102 seconds for feature selection ---\n",
      "features selected\n",
      "entro primeros\n",
      "SVM-rbf\n",
      "Fitting 5 folds for each of 169 candidates, totalling 845 fits\n"
     ]
    },
    {
     "name": "stderr",
     "output_type": "stream",
     "text": [
      "[Parallel(n_jobs=1)]: Done 845 out of 845 | elapsed:    7.9s finished\n"
     ]
    },
    {
     "name": "stdout",
     "output_type": "stream",
     "text": [
      "iteracion 22 para 20 features\n",
      "--- 0.008589982986450195 seconds for feature selection ---\n",
      "features selected\n",
      "entro primeros\n",
      "SVM-rbf\n",
      "Fitting 5 folds for each of 169 candidates, totalling 845 fits\n"
     ]
    },
    {
     "name": "stderr",
     "output_type": "stream",
     "text": [
      "[Parallel(n_jobs=1)]: Done 845 out of 845 | elapsed:    3.9s finished\n"
     ]
    },
    {
     "name": "stdout",
     "output_type": "stream",
     "text": [
      "iteracion 23 para 20 features\n",
      "--- 0.012923955917358398 seconds for feature selection ---\n",
      "features selected\n",
      "entro primeros\n",
      "SVM-rbf\n",
      "Fitting 5 folds for each of 169 candidates, totalling 845 fits\n"
     ]
    },
    {
     "name": "stderr",
     "output_type": "stream",
     "text": [
      "[Parallel(n_jobs=1)]: Done 845 out of 845 | elapsed:    5.4s finished\n"
     ]
    },
    {
     "name": "stdout",
     "output_type": "stream",
     "text": [
      "iteracion 24 para 20 features\n",
      "--- 0.0016970634460449219 seconds for feature selection ---\n",
      "features selected\n",
      "entro primeros\n",
      "SVM-rbf\n",
      "Fitting 5 folds for each of 169 candidates, totalling 845 fits\n"
     ]
    },
    {
     "name": "stderr",
     "output_type": "stream",
     "text": [
      "[Parallel(n_jobs=1)]: Done 845 out of 845 | elapsed:    7.9s finished\n"
     ]
    },
    {
     "name": "stdout",
     "output_type": "stream",
     "text": [
      "iteracion 25 para 20 features\n",
      "--- 0.0031669139862060547 seconds for feature selection ---\n",
      "features selected\n",
      "entro primeros\n",
      "SVM-rbf\n",
      "Fitting 5 folds for each of 169 candidates, totalling 845 fits\n"
     ]
    },
    {
     "name": "stderr",
     "output_type": "stream",
     "text": [
      "[Parallel(n_jobs=1)]: Done 845 out of 845 | elapsed:    6.0s finished\n"
     ]
    },
    {
     "name": "stdout",
     "output_type": "stream",
     "text": [
      "iteracion 26 para 20 features\n",
      "--- 0.015290021896362305 seconds for feature selection ---\n",
      "features selected\n",
      "entro primeros\n",
      "SVM-rbf\n",
      "Fitting 5 folds for each of 169 candidates, totalling 845 fits\n"
     ]
    },
    {
     "name": "stderr",
     "output_type": "stream",
     "text": [
      "[Parallel(n_jobs=1)]: Done 845 out of 845 | elapsed:    6.5s finished\n"
     ]
    },
    {
     "name": "stdout",
     "output_type": "stream",
     "text": [
      "iteracion 27 para 20 features\n",
      "--- 0.011461019515991211 seconds for feature selection ---\n",
      "features selected\n",
      "entro primeros\n",
      "SVM-rbf\n",
      "Fitting 5 folds for each of 169 candidates, totalling 845 fits\n"
     ]
    },
    {
     "name": "stderr",
     "output_type": "stream",
     "text": [
      "[Parallel(n_jobs=1)]: Done 845 out of 845 | elapsed:   17.5s finished\n"
     ]
    },
    {
     "name": "stdout",
     "output_type": "stream",
     "text": [
      "iteracion 28 para 20 features\n",
      "--- 0.0015609264373779297 seconds for feature selection ---\n",
      "features selected\n",
      "entro primeros\n",
      "SVM-rbf\n",
      "Fitting 5 folds for each of 169 candidates, totalling 845 fits\n"
     ]
    },
    {
     "name": "stderr",
     "output_type": "stream",
     "text": [
      "[Parallel(n_jobs=1)]: Done 845 out of 845 | elapsed:   10.0s finished\n"
     ]
    },
    {
     "name": "stdout",
     "output_type": "stream",
     "text": [
      "iteracion 29 para 20 features\n",
      "--- 0.0018091201782226562 seconds for feature selection ---\n",
      "features selected\n",
      "entro primeros\n",
      "SVM-rbf\n",
      "Fitting 5 folds for each of 169 candidates, totalling 845 fits\n"
     ]
    },
    {
     "name": "stderr",
     "output_type": "stream",
     "text": [
      "[Parallel(n_jobs=1)]: Done 845 out of 845 | elapsed:    5.5s finished\n"
     ]
    },
    {
     "name": "stdout",
     "output_type": "stream",
     "text": [
      "iteracion 30 para 20 features\n",
      "--- 0.0007379055023193359 seconds for feature selection ---\n",
      "features selected\n",
      "entro small iters\n",
      "SVM-rbf\n",
      "Fitting 5 folds for each of 64 candidates, totalling 320 fits\n"
     ]
    },
    {
     "name": "stderr",
     "output_type": "stream",
     "text": [
      "[Parallel(n_jobs=1)]: Done 320 out of 320 | elapsed:    1.8s finished\n"
     ]
    },
    {
     "name": "stdout",
     "output_type": "stream",
     "text": [
      "iteracion 31 para 20 features\n",
      "--- 0.009780168533325195 seconds for feature selection ---\n",
      "features selected\n",
      "entro small iters\n",
      "SVM-rbf\n",
      "Fitting 5 folds for each of 64 candidates, totalling 320 fits\n"
     ]
    },
    {
     "name": "stderr",
     "output_type": "stream",
     "text": [
      "[Parallel(n_jobs=1)]: Done 320 out of 320 | elapsed:    1.5s finished\n"
     ]
    },
    {
     "name": "stdout",
     "output_type": "stream",
     "text": [
      "iteracion 32 para 20 features\n",
      "--- 0.003515005111694336 seconds for feature selection ---\n",
      "features selected\n",
      "entro small iters\n",
      "SVM-rbf\n",
      "Fitting 5 folds for each of 64 candidates, totalling 320 fits\n"
     ]
    },
    {
     "name": "stderr",
     "output_type": "stream",
     "text": [
      "[Parallel(n_jobs=1)]: Done 320 out of 320 | elapsed:    1.5s finished\n"
     ]
    },
    {
     "name": "stdout",
     "output_type": "stream",
     "text": [
      "iteracion 33 para 20 features\n",
      "--- 0.0298309326171875 seconds for feature selection ---\n",
      "features selected\n",
      "entro small iters\n",
      "SVM-rbf\n",
      "Fitting 5 folds for each of 64 candidates, totalling 320 fits\n"
     ]
    },
    {
     "name": "stderr",
     "output_type": "stream",
     "text": [
      "[Parallel(n_jobs=1)]: Done 320 out of 320 | elapsed:    1.4s finished\n"
     ]
    },
    {
     "name": "stdout",
     "output_type": "stream",
     "text": [
      "iteracion 34 para 20 features\n",
      "--- 0.042088985443115234 seconds for feature selection ---\n",
      "features selected\n",
      "entro small iters\n",
      "SVM-rbf\n",
      "Fitting 5 folds for each of 64 candidates, totalling 320 fits\n"
     ]
    },
    {
     "name": "stderr",
     "output_type": "stream",
     "text": [
      "[Parallel(n_jobs=1)]: Done 320 out of 320 | elapsed:    2.2s finished\n"
     ]
    },
    {
     "name": "stdout",
     "output_type": "stream",
     "text": [
      "iteracion 35 para 20 features\n",
      "--- 0.0014019012451171875 seconds for feature selection ---\n",
      "features selected\n",
      "entro small iters\n",
      "SVM-rbf\n",
      "Fitting 5 folds for each of 64 candidates, totalling 320 fits\n"
     ]
    },
    {
     "name": "stderr",
     "output_type": "stream",
     "text": [
      "[Parallel(n_jobs=1)]: Done 320 out of 320 | elapsed:    2.0s finished\n"
     ]
    },
    {
     "name": "stdout",
     "output_type": "stream",
     "text": [
      "iteracion 36 para 20 features\n",
      "--- 0.030321121215820312 seconds for feature selection ---\n",
      "features selected\n",
      "entro small iters\n",
      "SVM-rbf\n",
      "Fitting 5 folds for each of 64 candidates, totalling 320 fits\n"
     ]
    },
    {
     "name": "stderr",
     "output_type": "stream",
     "text": [
      "[Parallel(n_jobs=1)]: Done 320 out of 320 | elapsed:    2.6s finished\n"
     ]
    },
    {
     "name": "stdout",
     "output_type": "stream",
     "text": [
      "iteracion 37 para 20 features\n",
      "--- 0.006626129150390625 seconds for feature selection ---\n",
      "features selected\n",
      "entro small iters\n",
      "SVM-rbf\n",
      "Fitting 5 folds for each of 64 candidates, totalling 320 fits\n"
     ]
    },
    {
     "name": "stderr",
     "output_type": "stream",
     "text": [
      "[Parallel(n_jobs=1)]: Done 320 out of 320 | elapsed:    2.5s finished\n"
     ]
    },
    {
     "name": "stdout",
     "output_type": "stream",
     "text": [
      "iteracion 38 para 20 features\n",
      "--- 0.0012309551239013672 seconds for feature selection ---\n",
      "features selected\n",
      "entro small iters\n",
      "SVM-rbf\n",
      "Fitting 5 folds for each of 64 candidates, totalling 320 fits\n"
     ]
    },
    {
     "name": "stderr",
     "output_type": "stream",
     "text": [
      "[Parallel(n_jobs=1)]: Done 320 out of 320 | elapsed:    3.1s finished\n"
     ]
    },
    {
     "name": "stdout",
     "output_type": "stream",
     "text": [
      "iteracion 39 para 20 features\n",
      "--- 0.015469074249267578 seconds for feature selection ---\n",
      "features selected\n",
      "entro small iters\n",
      "SVM-rbf\n",
      "Fitting 5 folds for each of 64 candidates, totalling 320 fits\n"
     ]
    },
    {
     "name": "stderr",
     "output_type": "stream",
     "text": [
      "[Parallel(n_jobs=1)]: Done 320 out of 320 | elapsed:    2.8s finished\n"
     ]
    },
    {
     "name": "stdout",
     "output_type": "stream",
     "text": [
      "iteracion 40 para 20 features\n",
      "--- 0.03830099105834961 seconds for feature selection ---\n",
      "features selected\n",
      "entro small iters\n",
      "SVM-rbf\n",
      "Fitting 5 folds for each of 64 candidates, totalling 320 fits\n"
     ]
    },
    {
     "name": "stderr",
     "output_type": "stream",
     "text": [
      "[Parallel(n_jobs=1)]: Done 320 out of 320 | elapsed:    4.5s finished\n"
     ]
    },
    {
     "name": "stdout",
     "output_type": "stream",
     "text": [
      "iteracion 41 para 20 features\n",
      "--- 0.011389970779418945 seconds for feature selection ---\n",
      "features selected\n",
      "entro small iters\n",
      "SVM-rbf\n",
      "Fitting 5 folds for each of 64 candidates, totalling 320 fits\n"
     ]
    },
    {
     "name": "stderr",
     "output_type": "stream",
     "text": [
      "[Parallel(n_jobs=1)]: Done 320 out of 320 | elapsed:    3.3s finished\n"
     ]
    },
    {
     "name": "stdout",
     "output_type": "stream",
     "text": [
      "iteracion 42 para 20 features\n",
      "--- 0.031147003173828125 seconds for feature selection ---\n",
      "features selected\n",
      "entro small iters\n",
      "SVM-rbf\n",
      "Fitting 5 folds for each of 64 candidates, totalling 320 fits\n"
     ]
    },
    {
     "name": "stderr",
     "output_type": "stream",
     "text": [
      "[Parallel(n_jobs=1)]: Done 320 out of 320 | elapsed:    2.3s finished\n"
     ]
    },
    {
     "name": "stdout",
     "output_type": "stream",
     "text": [
      "iteracion 43 para 20 features\n",
      "--- 0.2305281162261963 seconds for feature selection ---\n",
      "features selected\n",
      "entro small iters\n",
      "SVM-rbf\n",
      "Fitting 5 folds for each of 64 candidates, totalling 320 fits\n"
     ]
    },
    {
     "name": "stderr",
     "output_type": "stream",
     "text": [
      "[Parallel(n_jobs=1)]: Done 320 out of 320 | elapsed:    1.7s finished\n"
     ]
    },
    {
     "name": "stdout",
     "output_type": "stream",
     "text": [
      "iteracion 44 para 20 features\n",
      "--- 0.0009670257568359375 seconds for feature selection ---\n",
      "features selected\n",
      "entro small iters\n",
      "SVM-rbf\n",
      "Fitting 5 folds for each of 64 candidates, totalling 320 fits\n"
     ]
    },
    {
     "name": "stderr",
     "output_type": "stream",
     "text": [
      "[Parallel(n_jobs=1)]: Done 320 out of 320 | elapsed:    2.8s finished\n"
     ]
    },
    {
     "name": "stdout",
     "output_type": "stream",
     "text": [
      "iteracion 45 para 20 features\n",
      "--- 0.1003570556640625 seconds for feature selection ---\n",
      "features selected\n",
      "entro small iters\n",
      "SVM-rbf\n",
      "Fitting 5 folds for each of 64 candidates, totalling 320 fits\n"
     ]
    },
    {
     "name": "stderr",
     "output_type": "stream",
     "text": [
      "[Parallel(n_jobs=1)]: Done 320 out of 320 | elapsed:    2.5s finished\n"
     ]
    },
    {
     "name": "stdout",
     "output_type": "stream",
     "text": [
      "iteracion 46 para 20 features\n",
      "--- 0.0017368793487548828 seconds for feature selection ---\n",
      "features selected\n",
      "entro small iters\n",
      "SVM-rbf\n",
      "Fitting 5 folds for each of 64 candidates, totalling 320 fits\n"
     ]
    },
    {
     "name": "stderr",
     "output_type": "stream",
     "text": [
      "[Parallel(n_jobs=1)]: Done 320 out of 320 | elapsed:    2.7s finished\n"
     ]
    },
    {
     "name": "stdout",
     "output_type": "stream",
     "text": [
      "iteracion 47 para 20 features\n",
      "--- 0.016302108764648438 seconds for feature selection ---\n",
      "features selected\n",
      "entro small iters\n",
      "SVM-rbf\n",
      "Fitting 5 folds for each of 64 candidates, totalling 320 fits\n"
     ]
    },
    {
     "name": "stderr",
     "output_type": "stream",
     "text": [
      "[Parallel(n_jobs=1)]: Done 320 out of 320 | elapsed:    2.6s finished\n"
     ]
    },
    {
     "name": "stdout",
     "output_type": "stream",
     "text": [
      "iteracion 48 para 20 features\n",
      "--- 0.023194074630737305 seconds for feature selection ---\n",
      "features selected\n",
      "entro small iters\n",
      "SVM-rbf\n",
      "Fitting 5 folds for each of 64 candidates, totalling 320 fits\n"
     ]
    },
    {
     "name": "stderr",
     "output_type": "stream",
     "text": [
      "[Parallel(n_jobs=1)]: Done 320 out of 320 | elapsed:    2.3s finished\n"
     ]
    },
    {
     "name": "stdout",
     "output_type": "stream",
     "text": [
      "iteracion 49 para 20 features\n",
      "--- 0.00992894172668457 seconds for feature selection ---\n",
      "features selected\n",
      "entro small iters\n",
      "SVM-rbf\n",
      "Fitting 5 folds for each of 64 candidates, totalling 320 fits\n"
     ]
    },
    {
     "name": "stderr",
     "output_type": "stream",
     "text": [
      "[Parallel(n_jobs=1)]: Done 320 out of 320 | elapsed:    2.7s finished\n"
     ]
    },
    {
     "name": "stdout",
     "output_type": "stream",
     "text": [
      "iteracion 50 para 20 features\n",
      "--- 0.015205860137939453 seconds for feature selection ---\n",
      "features selected\n",
      "entro small iters\n",
      "SVM-rbf\n",
      "Fitting 5 folds for each of 64 candidates, totalling 320 fits\n"
     ]
    },
    {
     "name": "stderr",
     "output_type": "stream",
     "text": [
      "[Parallel(n_jobs=1)]: Done 320 out of 320 | elapsed:    5.7s finished\n"
     ]
    },
    {
     "name": "stdout",
     "output_type": "stream",
     "text": [
      "iteracion 51 para 20 features\n",
      "--- 0.040879011154174805 seconds for feature selection ---\n",
      "features selected\n",
      "entro small iters\n",
      "SVM-rbf\n",
      "Fitting 5 folds for each of 64 candidates, totalling 320 fits\n"
     ]
    },
    {
     "name": "stderr",
     "output_type": "stream",
     "text": [
      "[Parallel(n_jobs=1)]: Done 320 out of 320 | elapsed:    3.3s finished\n"
     ]
    },
    {
     "name": "stdout",
     "output_type": "stream",
     "text": [
      "iteracion 52 para 20 features\n",
      "--- 0.05603599548339844 seconds for feature selection ---\n",
      "features selected\n",
      "entro small iters\n",
      "SVM-rbf\n",
      "Fitting 5 folds for each of 64 candidates, totalling 320 fits\n"
     ]
    },
    {
     "name": "stderr",
     "output_type": "stream",
     "text": [
      "[Parallel(n_jobs=1)]: Done 320 out of 320 | elapsed:    3.2s finished\n"
     ]
    },
    {
     "name": "stdout",
     "output_type": "stream",
     "text": [
      "iteracion 53 para 20 features\n",
      "--- 0.03864693641662598 seconds for feature selection ---\n",
      "features selected\n",
      "entro small iters\n",
      "SVM-rbf\n",
      "Fitting 5 folds for each of 64 candidates, totalling 320 fits\n"
     ]
    },
    {
     "name": "stderr",
     "output_type": "stream",
     "text": [
      "[Parallel(n_jobs=1)]: Done 320 out of 320 | elapsed:    3.7s finished\n"
     ]
    },
    {
     "name": "stdout",
     "output_type": "stream",
     "text": [
      "iteracion 54 para 20 features\n",
      "--- 0.03295612335205078 seconds for feature selection ---\n",
      "features selected\n",
      "entro small iters\n",
      "SVM-rbf\n",
      "Fitting 5 folds for each of 64 candidates, totalling 320 fits\n"
     ]
    },
    {
     "name": "stderr",
     "output_type": "stream",
     "text": [
      "[Parallel(n_jobs=1)]: Done 320 out of 320 | elapsed:    1.8s finished\n"
     ]
    },
    {
     "name": "stdout",
     "output_type": "stream",
     "text": [
      "iteracion 55 para 20 features\n",
      "--- 0.010573148727416992 seconds for feature selection ---\n",
      "features selected\n",
      "entro small iters\n",
      "SVM-rbf\n",
      "Fitting 5 folds for each of 64 candidates, totalling 320 fits\n"
     ]
    },
    {
     "name": "stderr",
     "output_type": "stream",
     "text": [
      "[Parallel(n_jobs=1)]: Done 320 out of 320 | elapsed:    3.1s finished\n"
     ]
    },
    {
     "name": "stdout",
     "output_type": "stream",
     "text": [
      "iteracion 56 para 20 features\n",
      "--- 0.04450678825378418 seconds for feature selection ---\n",
      "features selected\n",
      "entro small iters\n",
      "SVM-rbf\n",
      "Fitting 5 folds for each of 64 candidates, totalling 320 fits\n"
     ]
    },
    {
     "name": "stderr",
     "output_type": "stream",
     "text": [
      "[Parallel(n_jobs=1)]: Done 320 out of 320 | elapsed:    2.5s finished\n"
     ]
    },
    {
     "name": "stdout",
     "output_type": "stream",
     "text": [
      "iteracion 57 para 20 features\n",
      "--- 0.0407559871673584 seconds for feature selection ---\n",
      "features selected\n",
      "entro small iters\n",
      "SVM-rbf\n",
      "Fitting 5 folds for each of 64 candidates, totalling 320 fits\n"
     ]
    },
    {
     "name": "stderr",
     "output_type": "stream",
     "text": [
      "[Parallel(n_jobs=1)]: Done 320 out of 320 | elapsed:    2.8s finished\n"
     ]
    },
    {
     "name": "stdout",
     "output_type": "stream",
     "text": [
      "iteracion 58 para 20 features\n",
      "--- 0.002814054489135742 seconds for feature selection ---\n",
      "features selected\n",
      "entro small iters\n",
      "SVM-rbf\n",
      "Fitting 5 folds for each of 64 candidates, totalling 320 fits\n"
     ]
    },
    {
     "name": "stderr",
     "output_type": "stream",
     "text": [
      "[Parallel(n_jobs=1)]: Done 320 out of 320 | elapsed:    1.7s finished\n"
     ]
    },
    {
     "name": "stdout",
     "output_type": "stream",
     "text": [
      "iteracion 59 para 20 features\n",
      "--- 0.04121994972229004 seconds for feature selection ---\n",
      "features selected\n",
      "entro small iters\n",
      "SVM-rbf\n",
      "Fitting 5 folds for each of 64 candidates, totalling 320 fits\n"
     ]
    },
    {
     "name": "stderr",
     "output_type": "stream",
     "text": [
      "[Parallel(n_jobs=1)]: Done 320 out of 320 | elapsed:    2.8s finished\n"
     ]
    },
    {
     "name": "stdout",
     "output_type": "stream",
     "text": [
      "iteracion 60 para 20 features\n",
      "--- 0.1574239730834961 seconds for feature selection ---\n",
      "features selected\n",
      "entro small iters\n",
      "SVM-rbf\n",
      "Fitting 5 folds for each of 64 candidates, totalling 320 fits\n"
     ]
    },
    {
     "name": "stderr",
     "output_type": "stream",
     "text": [
      "[Parallel(n_jobs=1)]: Done 320 out of 320 | elapsed:    2.5s finished\n"
     ]
    },
    {
     "name": "stdout",
     "output_type": "stream",
     "text": [
      "iteracion 61 para 20 features\n",
      "--- 0.002679109573364258 seconds for feature selection ---\n",
      "features selected\n",
      "entro small iters\n",
      "SVM-rbf\n",
      "Fitting 5 folds for each of 64 candidates, totalling 320 fits\n"
     ]
    },
    {
     "name": "stderr",
     "output_type": "stream",
     "text": [
      "[Parallel(n_jobs=1)]: Done 320 out of 320 | elapsed:    1.9s finished\n"
     ]
    },
    {
     "name": "stdout",
     "output_type": "stream",
     "text": [
      "iteracion 62 para 20 features\n",
      "--- 0.020257949829101562 seconds for feature selection ---\n",
      "features selected\n",
      "entro small iters\n",
      "SVM-rbf\n",
      "Fitting 5 folds for each of 64 candidates, totalling 320 fits\n"
     ]
    },
    {
     "name": "stderr",
     "output_type": "stream",
     "text": [
      "[Parallel(n_jobs=1)]: Done 320 out of 320 | elapsed:    2.4s finished\n"
     ]
    },
    {
     "name": "stdout",
     "output_type": "stream",
     "text": [
      "iteracion 63 para 20 features\n",
      "--- 0.08763313293457031 seconds for feature selection ---\n",
      "features selected\n",
      "entro small iters\n",
      "SVM-rbf\n",
      "Fitting 5 folds for each of 64 candidates, totalling 320 fits\n"
     ]
    },
    {
     "name": "stderr",
     "output_type": "stream",
     "text": [
      "[Parallel(n_jobs=1)]: Done 320 out of 320 | elapsed:    1.9s finished\n"
     ]
    },
    {
     "name": "stdout",
     "output_type": "stream",
     "text": [
      "iteracion 64 para 20 features\n",
      "--- 0.002440929412841797 seconds for feature selection ---\n",
      "features selected\n",
      "entro small iters\n",
      "SVM-rbf\n",
      "Fitting 5 folds for each of 64 candidates, totalling 320 fits\n"
     ]
    },
    {
     "name": "stderr",
     "output_type": "stream",
     "text": [
      "[Parallel(n_jobs=1)]: Done 320 out of 320 | elapsed:    1.8s finished\n"
     ]
    },
    {
     "name": "stdout",
     "output_type": "stream",
     "text": [
      "iteracion 65 para 20 features\n",
      "--- 0.2342820167541504 seconds for feature selection ---\n",
      "features selected\n",
      "entro small iters\n",
      "SVM-rbf\n",
      "Fitting 5 folds for each of 64 candidates, totalling 320 fits\n"
     ]
    },
    {
     "name": "stderr",
     "output_type": "stream",
     "text": [
      "[Parallel(n_jobs=1)]: Done 320 out of 320 | elapsed:    1.5s finished\n"
     ]
    },
    {
     "name": "stdout",
     "output_type": "stream",
     "text": [
      "iteracion 66 para 20 features\n",
      "--- 0.0024709701538085938 seconds for feature selection ---\n",
      "features selected\n",
      "entro small iters\n",
      "SVM-rbf\n",
      "Fitting 5 folds for each of 64 candidates, totalling 320 fits\n"
     ]
    },
    {
     "name": "stderr",
     "output_type": "stream",
     "text": [
      "[Parallel(n_jobs=1)]: Done 320 out of 320 | elapsed:    1.6s finished\n"
     ]
    },
    {
     "name": "stdout",
     "output_type": "stream",
     "text": [
      "iteracion 67 para 20 features\n",
      "--- 0.016665935516357422 seconds for feature selection ---\n",
      "features selected\n",
      "entro small iters\n",
      "SVM-rbf\n",
      "Fitting 5 folds for each of 64 candidates, totalling 320 fits\n"
     ]
    },
    {
     "name": "stderr",
     "output_type": "stream",
     "text": [
      "[Parallel(n_jobs=1)]: Done 320 out of 320 | elapsed:    1.9s finished\n"
     ]
    },
    {
     "name": "stdout",
     "output_type": "stream",
     "text": [
      "iteracion 68 para 20 features\n",
      "--- 0.08408403396606445 seconds for feature selection ---\n",
      "features selected\n",
      "entro small iters\n",
      "SVM-rbf\n",
      "Fitting 5 folds for each of 64 candidates, totalling 320 fits\n"
     ]
    },
    {
     "name": "stderr",
     "output_type": "stream",
     "text": [
      "[Parallel(n_jobs=1)]: Done 320 out of 320 | elapsed:    2.4s finished\n"
     ]
    },
    {
     "name": "stdout",
     "output_type": "stream",
     "text": [
      "iteracion 69 para 20 features\n",
      "--- 0.019877910614013672 seconds for feature selection ---\n",
      "features selected\n",
      "entro small iters\n",
      "SVM-rbf\n",
      "Fitting 5 folds for each of 64 candidates, totalling 320 fits\n"
     ]
    },
    {
     "name": "stderr",
     "output_type": "stream",
     "text": [
      "[Parallel(n_jobs=1)]: Done 320 out of 320 | elapsed:    2.0s finished\n"
     ]
    },
    {
     "name": "stdout",
     "output_type": "stream",
     "text": [
      "iteracion 70 para 20 features\n",
      "--- 0.028953075408935547 seconds for feature selection ---\n",
      "features selected\n",
      "entro small iters\n",
      "SVM-rbf\n",
      "Fitting 5 folds for each of 64 candidates, totalling 320 fits\n"
     ]
    },
    {
     "name": "stderr",
     "output_type": "stream",
     "text": [
      "[Parallel(n_jobs=1)]: Done 320 out of 320 | elapsed:    1.8s finished\n"
     ]
    },
    {
     "name": "stdout",
     "output_type": "stream",
     "text": [
      "iteracion 71 para 20 features\n",
      "--- 0.036370038986206055 seconds for feature selection ---\n",
      "features selected\n",
      "entro small iters\n",
      "SVM-rbf\n",
      "Fitting 5 folds for each of 64 candidates, totalling 320 fits\n"
     ]
    },
    {
     "name": "stderr",
     "output_type": "stream",
     "text": [
      "[Parallel(n_jobs=1)]: Done 320 out of 320 | elapsed:    2.1s finished\n"
     ]
    },
    {
     "name": "stdout",
     "output_type": "stream",
     "text": [
      "iteracion 72 para 20 features\n",
      "--- 0.002936124801635742 seconds for feature selection ---\n",
      "features selected\n",
      "entro small iters\n",
      "SVM-rbf\n",
      "Fitting 5 folds for each of 64 candidates, totalling 320 fits\n"
     ]
    },
    {
     "name": "stderr",
     "output_type": "stream",
     "text": [
      "[Parallel(n_jobs=1)]: Done 320 out of 320 | elapsed:   14.8s finished\n"
     ]
    },
    {
     "name": "stdout",
     "output_type": "stream",
     "text": [
      "iteracion 73 para 20 features\n",
      "--- 0.0016360282897949219 seconds for feature selection ---\n",
      "features selected\n",
      "entro small iters\n",
      "SVM-rbf\n",
      "Fitting 5 folds for each of 64 candidates, totalling 320 fits\n"
     ]
    },
    {
     "name": "stderr",
     "output_type": "stream",
     "text": [
      "[Parallel(n_jobs=1)]: Done 320 out of 320 | elapsed:    1.9s finished\n"
     ]
    },
    {
     "name": "stdout",
     "output_type": "stream",
     "text": [
      "iteracion 74 para 20 features\n",
      "--- 0.0013289451599121094 seconds for feature selection ---\n",
      "features selected\n",
      "entro small iters\n",
      "SVM-rbf\n",
      "Fitting 5 folds for each of 64 candidates, totalling 320 fits\n"
     ]
    },
    {
     "name": "stderr",
     "output_type": "stream",
     "text": [
      "[Parallel(n_jobs=1)]: Done 320 out of 320 | elapsed:    1.4s finished\n"
     ]
    },
    {
     "name": "stdout",
     "output_type": "stream",
     "text": [
      "iteracion 75 para 20 features\n",
      "--- 0.0008039474487304688 seconds for feature selection ---\n",
      "features selected\n",
      "entro small iters\n",
      "SVM-rbf\n",
      "Fitting 5 folds for each of 64 candidates, totalling 320 fits\n"
     ]
    },
    {
     "name": "stderr",
     "output_type": "stream",
     "text": [
      "[Parallel(n_jobs=1)]: Done 320 out of 320 | elapsed:    1.8s finished\n"
     ]
    },
    {
     "name": "stdout",
     "output_type": "stream",
     "text": [
      "iteracion 76 para 20 features\n",
      "--- 0.0009849071502685547 seconds for feature selection ---\n",
      "features selected\n",
      "entro small iters\n",
      "SVM-rbf\n",
      "Fitting 5 folds for each of 64 candidates, totalling 320 fits\n"
     ]
    },
    {
     "name": "stderr",
     "output_type": "stream",
     "text": [
      "[Parallel(n_jobs=1)]: Done 320 out of 320 | elapsed:    1.8s finished\n"
     ]
    },
    {
     "name": "stdout",
     "output_type": "stream",
     "text": [
      "iteracion 77 para 20 features\n",
      "--- 0.0014851093292236328 seconds for feature selection ---\n",
      "features selected\n",
      "entro small iters\n",
      "SVM-rbf\n",
      "Fitting 5 folds for each of 64 candidates, totalling 320 fits\n"
     ]
    },
    {
     "name": "stderr",
     "output_type": "stream",
     "text": [
      "[Parallel(n_jobs=1)]: Done 320 out of 320 | elapsed:    1.9s finished\n"
     ]
    },
    {
     "name": "stdout",
     "output_type": "stream",
     "text": [
      "iteracion 78 para 20 features\n",
      "--- 0.000762939453125 seconds for feature selection ---\n",
      "features selected\n",
      "entro small iters\n",
      "SVM-rbf\n",
      "Fitting 5 folds for each of 64 candidates, totalling 320 fits\n"
     ]
    },
    {
     "name": "stderr",
     "output_type": "stream",
     "text": [
      "[Parallel(n_jobs=1)]: Done 320 out of 320 | elapsed:    1.6s finished\n"
     ]
    },
    {
     "name": "stdout",
     "output_type": "stream",
     "text": [
      "iteracion 79 para 20 features\n",
      "--- 0.0007588863372802734 seconds for feature selection ---\n",
      "features selected\n",
      "entro small iters\n",
      "SVM-rbf\n",
      "Fitting 5 folds for each of 64 candidates, totalling 320 fits\n"
     ]
    },
    {
     "name": "stderr",
     "output_type": "stream",
     "text": [
      "[Parallel(n_jobs=1)]: Done 320 out of 320 | elapsed:    1.8s finished\n"
     ]
    },
    {
     "name": "stdout",
     "output_type": "stream",
     "text": [
      "iteracion 80 para 20 features\n",
      "--- 0.0021088123321533203 seconds for feature selection ---\n",
      "features selected\n",
      "entro small iters\n",
      "SVM-rbf\n",
      "Fitting 5 folds for each of 64 candidates, totalling 320 fits\n"
     ]
    },
    {
     "name": "stderr",
     "output_type": "stream",
     "text": [
      "[Parallel(n_jobs=1)]: Done 320 out of 320 | elapsed:    1.6s finished\n"
     ]
    },
    {
     "name": "stdout",
     "output_type": "stream",
     "text": [
      "iteracion 81 para 20 features\n",
      "--- 0.0009260177612304688 seconds for feature selection ---\n",
      "features selected\n",
      "entro small iters\n",
      "SVM-rbf\n",
      "Fitting 5 folds for each of 64 candidates, totalling 320 fits\n"
     ]
    },
    {
     "name": "stderr",
     "output_type": "stream",
     "text": [
      "[Parallel(n_jobs=1)]: Done 320 out of 320 | elapsed:    2.1s finished\n"
     ]
    },
    {
     "name": "stdout",
     "output_type": "stream",
     "text": [
      "iteracion 82 para 20 features\n",
      "--- 0.036791086196899414 seconds for feature selection ---\n",
      "features selected\n",
      "entro small iters\n",
      "SVM-rbf\n",
      "Fitting 5 folds for each of 64 candidates, totalling 320 fits\n"
     ]
    },
    {
     "name": "stderr",
     "output_type": "stream",
     "text": [
      "[Parallel(n_jobs=1)]: Done 320 out of 320 | elapsed:    1.9s finished\n"
     ]
    },
    {
     "name": "stdout",
     "output_type": "stream",
     "text": [
      "iteracion 83 para 20 features\n",
      "--- 0.0012309551239013672 seconds for feature selection ---\n",
      "features selected\n",
      "entro small iters\n",
      "SVM-rbf\n",
      "Fitting 5 folds for each of 64 candidates, totalling 320 fits\n"
     ]
    },
    {
     "name": "stderr",
     "output_type": "stream",
     "text": [
      "[Parallel(n_jobs=1)]: Done 320 out of 320 | elapsed:    1.9s finished\n"
     ]
    },
    {
     "name": "stdout",
     "output_type": "stream",
     "text": [
      "iteracion 84 para 20 features\n",
      "--- 0.055280208587646484 seconds for feature selection ---\n",
      "features selected\n",
      "entro small iters\n",
      "SVM-rbf\n",
      "Fitting 5 folds for each of 64 candidates, totalling 320 fits\n"
     ]
    },
    {
     "name": "stderr",
     "output_type": "stream",
     "text": [
      "[Parallel(n_jobs=1)]: Done 320 out of 320 | elapsed:    2.4s finished\n"
     ]
    },
    {
     "name": "stdout",
     "output_type": "stream",
     "text": [
      "iteracion 85 para 20 features\n",
      "--- 0.11529898643493652 seconds for feature selection ---\n",
      "features selected\n",
      "entro small iters\n",
      "SVM-rbf\n",
      "Fitting 5 folds for each of 64 candidates, totalling 320 fits\n"
     ]
    },
    {
     "name": "stderr",
     "output_type": "stream",
     "text": [
      "[Parallel(n_jobs=1)]: Done 320 out of 320 | elapsed:    3.3s finished\n"
     ]
    },
    {
     "name": "stdout",
     "output_type": "stream",
     "text": [
      "iteracion 86 para 20 features\n",
      "--- 0.023931026458740234 seconds for feature selection ---\n",
      "features selected\n",
      "entro small iters\n",
      "SVM-rbf\n",
      "Fitting 5 folds for each of 64 candidates, totalling 320 fits\n"
     ]
    },
    {
     "name": "stderr",
     "output_type": "stream",
     "text": [
      "[Parallel(n_jobs=1)]: Done 320 out of 320 | elapsed:    2.2s finished\n"
     ]
    },
    {
     "name": "stdout",
     "output_type": "stream",
     "text": [
      "iteracion 87 para 20 features\n",
      "--- 0.025162935256958008 seconds for feature selection ---\n",
      "features selected\n",
      "entro small iters\n",
      "SVM-rbf\n",
      "Fitting 5 folds for each of 64 candidates, totalling 320 fits\n"
     ]
    },
    {
     "name": "stderr",
     "output_type": "stream",
     "text": [
      "[Parallel(n_jobs=1)]: Done 320 out of 320 | elapsed:    1.8s finished\n"
     ]
    },
    {
     "name": "stdout",
     "output_type": "stream",
     "text": [
      "iteracion 88 para 20 features\n",
      "--- 0.010129928588867188 seconds for feature selection ---\n",
      "features selected\n",
      "entro small iters\n",
      "SVM-rbf\n",
      "Fitting 5 folds for each of 64 candidates, totalling 320 fits\n"
     ]
    },
    {
     "name": "stderr",
     "output_type": "stream",
     "text": [
      "[Parallel(n_jobs=1)]: Done 320 out of 320 | elapsed:    2.0s finished\n"
     ]
    },
    {
     "name": "stdout",
     "output_type": "stream",
     "text": [
      "iteracion 89 para 20 features\n",
      "--- 0.0008428096771240234 seconds for feature selection ---\n",
      "features selected\n",
      "entro small iters\n",
      "SVM-rbf\n",
      "Fitting 5 folds for each of 64 candidates, totalling 320 fits\n"
     ]
    },
    {
     "name": "stderr",
     "output_type": "stream",
     "text": [
      "[Parallel(n_jobs=1)]: Done 320 out of 320 | elapsed:    2.0s finished\n"
     ]
    },
    {
     "name": "stdout",
     "output_type": "stream",
     "text": [
      "iteracion 90 para 20 features\n",
      "--- 0.04520988464355469 seconds for feature selection ---\n",
      "features selected\n",
      "entro small iters\n",
      "SVM-rbf\n",
      "Fitting 5 folds for each of 64 candidates, totalling 320 fits\n"
     ]
    },
    {
     "name": "stderr",
     "output_type": "stream",
     "text": [
      "[Parallel(n_jobs=1)]: Done 320 out of 320 | elapsed:    2.9s finished\n"
     ]
    },
    {
     "name": "stdout",
     "output_type": "stream",
     "text": [
      "iteracion 91 para 20 features\n",
      "--- 0.027888059616088867 seconds for feature selection ---\n",
      "features selected\n",
      "entro small iters\n",
      "SVM-rbf\n",
      "Fitting 5 folds for each of 64 candidates, totalling 320 fits\n"
     ]
    },
    {
     "name": "stderr",
     "output_type": "stream",
     "text": [
      "[Parallel(n_jobs=1)]: Done 320 out of 320 | elapsed:    2.6s finished\n"
     ]
    },
    {
     "name": "stdout",
     "output_type": "stream",
     "text": [
      "iteracion 92 para 20 features\n",
      "--- 0.0015149116516113281 seconds for feature selection ---\n",
      "features selected\n",
      "entro small iters\n",
      "SVM-rbf\n",
      "Fitting 5 folds for each of 64 candidates, totalling 320 fits\n"
     ]
    },
    {
     "name": "stderr",
     "output_type": "stream",
     "text": [
      "[Parallel(n_jobs=1)]: Done 320 out of 320 | elapsed:    2.1s finished\n"
     ]
    },
    {
     "name": "stdout",
     "output_type": "stream",
     "text": [
      "iteracion 93 para 20 features\n",
      "--- 0.02198004722595215 seconds for feature selection ---\n",
      "features selected\n",
      "entro small iters\n",
      "SVM-rbf\n",
      "Fitting 5 folds for each of 64 candidates, totalling 320 fits\n"
     ]
    },
    {
     "name": "stderr",
     "output_type": "stream",
     "text": [
      "[Parallel(n_jobs=1)]: Done 320 out of 320 | elapsed:    2.3s finished\n"
     ]
    },
    {
     "name": "stdout",
     "output_type": "stream",
     "text": [
      "iteracion 94 para 20 features\n",
      "--- 0.00518798828125 seconds for feature selection ---\n",
      "features selected\n",
      "entro small iters\n",
      "SVM-rbf\n",
      "Fitting 5 folds for each of 64 candidates, totalling 320 fits\n"
     ]
    },
    {
     "name": "stderr",
     "output_type": "stream",
     "text": [
      "[Parallel(n_jobs=1)]: Done 320 out of 320 | elapsed:    1.5s finished\n"
     ]
    },
    {
     "name": "stdout",
     "output_type": "stream",
     "text": [
      "iteracion 95 para 20 features\n",
      "--- 0.014066934585571289 seconds for feature selection ---\n",
      "features selected\n",
      "entro small iters\n",
      "SVM-rbf\n",
      "Fitting 5 folds for each of 64 candidates, totalling 320 fits\n"
     ]
    },
    {
     "name": "stderr",
     "output_type": "stream",
     "text": [
      "[Parallel(n_jobs=1)]: Done 320 out of 320 | elapsed:    3.0s finished\n"
     ]
    },
    {
     "name": "stdout",
     "output_type": "stream",
     "text": [
      "iteracion 96 para 20 features\n",
      "--- 0.02188396453857422 seconds for feature selection ---\n",
      "features selected\n",
      "entro small iters\n",
      "SVM-rbf\n",
      "Fitting 5 folds for each of 64 candidates, totalling 320 fits\n"
     ]
    },
    {
     "name": "stderr",
     "output_type": "stream",
     "text": [
      "[Parallel(n_jobs=1)]: Done 320 out of 320 | elapsed:    3.1s finished\n"
     ]
    },
    {
     "name": "stdout",
     "output_type": "stream",
     "text": [
      "iteracion 97 para 20 features\n",
      "--- 0.01800084114074707 seconds for feature selection ---\n",
      "features selected\n",
      "entro small iters\n",
      "SVM-rbf\n",
      "Fitting 5 folds for each of 64 candidates, totalling 320 fits\n"
     ]
    },
    {
     "name": "stderr",
     "output_type": "stream",
     "text": [
      "[Parallel(n_jobs=1)]: Done 320 out of 320 | elapsed:    3.1s finished\n"
     ]
    },
    {
     "name": "stdout",
     "output_type": "stream",
     "text": [
      "iteracion 98 para 20 features\n",
      "--- 0.14531588554382324 seconds for feature selection ---\n",
      "features selected\n",
      "entro small iters\n",
      "SVM-rbf\n",
      "Fitting 5 folds for each of 64 candidates, totalling 320 fits\n"
     ]
    },
    {
     "name": "stderr",
     "output_type": "stream",
     "text": [
      "[Parallel(n_jobs=1)]: Done 320 out of 320 | elapsed:    2.2s finished\n"
     ]
    },
    {
     "name": "stdout",
     "output_type": "stream",
     "text": [
      "iteracion 99 para 20 features\n",
      "--- 0.029806852340698242 seconds for feature selection ---\n",
      "features selected\n",
      "entro small iters\n",
      "SVM-rbf\n",
      "Fitting 5 folds for each of 64 candidates, totalling 320 fits\n"
     ]
    },
    {
     "name": "stderr",
     "output_type": "stream",
     "text": [
      "[Parallel(n_jobs=1)]: Done 320 out of 320 | elapsed:    2.3s finished\n"
     ]
    },
    {
     "name": "stdout",
     "output_type": "stream",
     "text": [
      "iteracion 100 para 20 features\n",
      "--- 0.0023031234741210938 seconds for feature selection ---\n",
      "features selected\n",
      "entro small iters\n",
      "SVM-rbf\n",
      "Fitting 5 folds for each of 64 candidates, totalling 320 fits\n"
     ]
    },
    {
     "name": "stderr",
     "output_type": "stream",
     "text": [
      "[Parallel(n_jobs=1)]: Done 320 out of 320 | elapsed:    2.1s finished\n"
     ]
    },
    {
     "name": "stdout",
     "output_type": "stream",
     "text": [
      "iteracion 101 para 20 features\n",
      "--- 0.03101801872253418 seconds for feature selection ---\n",
      "features selected\n",
      "entro small iters\n",
      "SVM-rbf\n",
      "Fitting 5 folds for each of 64 candidates, totalling 320 fits\n"
     ]
    },
    {
     "name": "stderr",
     "output_type": "stream",
     "text": [
      "[Parallel(n_jobs=1)]: Done 320 out of 320 | elapsed:    1.8s finished\n"
     ]
    },
    {
     "name": "stdout",
     "output_type": "stream",
     "text": [
      "iteracion 102 para 20 features\n",
      "--- 0.025790929794311523 seconds for feature selection ---\n",
      "features selected\n",
      "entro small iters\n",
      "SVM-rbf\n",
      "Fitting 5 folds for each of 64 candidates, totalling 320 fits\n"
     ]
    },
    {
     "name": "stderr",
     "output_type": "stream",
     "text": [
      "[Parallel(n_jobs=1)]: Done 320 out of 320 | elapsed:    1.8s finished\n"
     ]
    },
    {
     "name": "stdout",
     "output_type": "stream",
     "text": [
      "iteracion 103 para 20 features\n",
      "--- 0.004480123519897461 seconds for feature selection ---\n",
      "features selected\n",
      "entro small iters\n",
      "SVM-rbf\n",
      "Fitting 5 folds for each of 64 candidates, totalling 320 fits\n"
     ]
    },
    {
     "name": "stderr",
     "output_type": "stream",
     "text": [
      "[Parallel(n_jobs=1)]: Done 320 out of 320 | elapsed:    1.7s finished\n"
     ]
    },
    {
     "ename": "KeyError",
     "evalue": "'y_poly'",
     "output_type": "error",
     "traceback": [
      "\u001b[0;31m---------------------------------------------------------------------------\u001b[0m",
      "\u001b[0;31mKeyError\u001b[0m                                  Traceback (most recent call last)",
      "\u001b[0;32m/Users/DianaCarolina/anaconda/envs/py35/lib/python3.5/site-packages/pandas/core/indexes/base.py\u001b[0m in \u001b[0;36mget_loc\u001b[0;34m(self, key, method, tolerance)\u001b[0m\n\u001b[1;32m   2392\u001b[0m             \u001b[0;32mtry\u001b[0m\u001b[0;34m:\u001b[0m\u001b[0;34m\u001b[0m\u001b[0m\n\u001b[0;32m-> 2393\u001b[0;31m                 \u001b[0;32mreturn\u001b[0m \u001b[0mself\u001b[0m\u001b[0;34m.\u001b[0m\u001b[0m_engine\u001b[0m\u001b[0;34m.\u001b[0m\u001b[0mget_loc\u001b[0m\u001b[0;34m(\u001b[0m\u001b[0mkey\u001b[0m\u001b[0;34m)\u001b[0m\u001b[0;34m\u001b[0m\u001b[0m\n\u001b[0m\u001b[1;32m   2394\u001b[0m             \u001b[0;32mexcept\u001b[0m \u001b[0mKeyError\u001b[0m\u001b[0;34m:\u001b[0m\u001b[0;34m\u001b[0m\u001b[0m\n",
      "\u001b[0;32mpandas/_libs/index.pyx\u001b[0m in \u001b[0;36mpandas._libs.index.IndexEngine.get_loc (pandas/_libs/index.c:5239)\u001b[0;34m()\u001b[0m\n",
      "\u001b[0;32mpandas/_libs/index.pyx\u001b[0m in \u001b[0;36mpandas._libs.index.IndexEngine.get_loc (pandas/_libs/index.c:5085)\u001b[0;34m()\u001b[0m\n",
      "\u001b[0;32mpandas/_libs/hashtable_class_helper.pxi\u001b[0m in \u001b[0;36mpandas._libs.hashtable.PyObjectHashTable.get_item (pandas/_libs/hashtable.c:20405)\u001b[0;34m()\u001b[0m\n",
      "\u001b[0;32mpandas/_libs/hashtable_class_helper.pxi\u001b[0m in \u001b[0;36mpandas._libs.hashtable.PyObjectHashTable.get_item (pandas/_libs/hashtable.c:20359)\u001b[0;34m()\u001b[0m\n",
      "\u001b[0;31mKeyError\u001b[0m: 'y_poly'",
      "\nDuring handling of the above exception, another exception occurred:\n",
      "\u001b[0;31mKeyError\u001b[0m                                  Traceback (most recent call last)",
      "\u001b[0;32m<ipython-input-36-385babefe632>\u001b[0m in \u001b[0;36m<module>\u001b[0;34m()\u001b[0m\n\u001b[1;32m     41\u001b[0m     \u001b[0;31m#features_sel_total = {key: value + [features_sel[key]] for key, value in features_sel_total.items()}\u001b[0m\u001b[0;34m\u001b[0m\u001b[0;34m\u001b[0m\u001b[0m\n\u001b[1;32m     42\u001b[0m     svm_accuracy[num] = [np.where((predictions['y_true']==predictions['y_rbf'])==True)[0].shape[0]/samples,\n\u001b[0;32m---> 43\u001b[0;31m                         \u001b[0mnp\u001b[0m\u001b[0;34m.\u001b[0m\u001b[0mwhere\u001b[0m\u001b[0;34m(\u001b[0m\u001b[0;34m(\u001b[0m\u001b[0mpredictions\u001b[0m\u001b[0;34m[\u001b[0m\u001b[0;34m'y_true'\u001b[0m\u001b[0;34m]\u001b[0m\u001b[0;34m==\u001b[0m\u001b[0mpredictions\u001b[0m\u001b[0;34m[\u001b[0m\u001b[0;34m'y_poly'\u001b[0m\u001b[0;34m]\u001b[0m\u001b[0;34m)\u001b[0m\u001b[0;34m==\u001b[0m\u001b[0;32mTrue\u001b[0m\u001b[0;34m)\u001b[0m\u001b[0;34m[\u001b[0m\u001b[0;36m0\u001b[0m\u001b[0;34m]\u001b[0m\u001b[0;34m.\u001b[0m\u001b[0mshape\u001b[0m\u001b[0;34m[\u001b[0m\u001b[0;36m0\u001b[0m\u001b[0;34m]\u001b[0m\u001b[0;34m/\u001b[0m\u001b[0msamples\u001b[0m\u001b[0;34m,\u001b[0m\u001b[0;34m\u001b[0m\u001b[0m\n\u001b[0m\u001b[1;32m     44\u001b[0m                         np.where((predictions['y_true']==predictions['y_lin'])==True)[0].shape[0]/samples]\n\u001b[1;32m     45\u001b[0m \u001b[0mpickle\u001b[0m\u001b[0;34m.\u001b[0m\u001b[0mdump\u001b[0m\u001b[0;34m(\u001b[0m\u001b[0msvm_accuracy\u001b[0m\u001b[0;34m,\u001b[0m \u001b[0mopen\u001b[0m\u001b[0;34m(\u001b[0m\u001b[0msave_file\u001b[0m \u001b[0;34m+\u001b[0m \u001b[0;34m\"/accuracy_%s_%s.p\"\u001b[0m \u001b[0;34m%\u001b[0m \u001b[0;34m(\u001b[0m\u001b[0mtissue\u001b[0m\u001b[0;34m,\u001b[0m \u001b[0mfeat_sel\u001b[0m\u001b[0;34m)\u001b[0m\u001b[0;34m,\u001b[0m \u001b[0;34m\"wb\"\u001b[0m\u001b[0;34m)\u001b[0m\u001b[0;34m)\u001b[0m\u001b[0;34m\u001b[0m\u001b[0m\n",
      "\u001b[0;32m/Users/DianaCarolina/anaconda/envs/py35/lib/python3.5/site-packages/pandas/core/frame.py\u001b[0m in \u001b[0;36m__getitem__\u001b[0;34m(self, key)\u001b[0m\n\u001b[1;32m   2060\u001b[0m             \u001b[0;32mreturn\u001b[0m \u001b[0mself\u001b[0m\u001b[0;34m.\u001b[0m\u001b[0m_getitem_multilevel\u001b[0m\u001b[0;34m(\u001b[0m\u001b[0mkey\u001b[0m\u001b[0;34m)\u001b[0m\u001b[0;34m\u001b[0m\u001b[0m\n\u001b[1;32m   2061\u001b[0m         \u001b[0;32melse\u001b[0m\u001b[0;34m:\u001b[0m\u001b[0;34m\u001b[0m\u001b[0m\n\u001b[0;32m-> 2062\u001b[0;31m             \u001b[0;32mreturn\u001b[0m \u001b[0mself\u001b[0m\u001b[0;34m.\u001b[0m\u001b[0m_getitem_column\u001b[0m\u001b[0;34m(\u001b[0m\u001b[0mkey\u001b[0m\u001b[0;34m)\u001b[0m\u001b[0;34m\u001b[0m\u001b[0m\n\u001b[0m\u001b[1;32m   2063\u001b[0m \u001b[0;34m\u001b[0m\u001b[0m\n\u001b[1;32m   2064\u001b[0m     \u001b[0;32mdef\u001b[0m \u001b[0m_getitem_column\u001b[0m\u001b[0;34m(\u001b[0m\u001b[0mself\u001b[0m\u001b[0;34m,\u001b[0m \u001b[0mkey\u001b[0m\u001b[0;34m)\u001b[0m\u001b[0;34m:\u001b[0m\u001b[0;34m\u001b[0m\u001b[0m\n",
      "\u001b[0;32m/Users/DianaCarolina/anaconda/envs/py35/lib/python3.5/site-packages/pandas/core/frame.py\u001b[0m in \u001b[0;36m_getitem_column\u001b[0;34m(self, key)\u001b[0m\n\u001b[1;32m   2067\u001b[0m         \u001b[0;31m# get column\u001b[0m\u001b[0;34m\u001b[0m\u001b[0;34m\u001b[0m\u001b[0m\n\u001b[1;32m   2068\u001b[0m         \u001b[0;32mif\u001b[0m \u001b[0mself\u001b[0m\u001b[0;34m.\u001b[0m\u001b[0mcolumns\u001b[0m\u001b[0;34m.\u001b[0m\u001b[0mis_unique\u001b[0m\u001b[0;34m:\u001b[0m\u001b[0;34m\u001b[0m\u001b[0m\n\u001b[0;32m-> 2069\u001b[0;31m             \u001b[0;32mreturn\u001b[0m \u001b[0mself\u001b[0m\u001b[0;34m.\u001b[0m\u001b[0m_get_item_cache\u001b[0m\u001b[0;34m(\u001b[0m\u001b[0mkey\u001b[0m\u001b[0;34m)\u001b[0m\u001b[0;34m\u001b[0m\u001b[0m\n\u001b[0m\u001b[1;32m   2070\u001b[0m \u001b[0;34m\u001b[0m\u001b[0m\n\u001b[1;32m   2071\u001b[0m         \u001b[0;31m# duplicate columns & possible reduce dimensionality\u001b[0m\u001b[0;34m\u001b[0m\u001b[0;34m\u001b[0m\u001b[0m\n",
      "\u001b[0;32m/Users/DianaCarolina/anaconda/envs/py35/lib/python3.5/site-packages/pandas/core/generic.py\u001b[0m in \u001b[0;36m_get_item_cache\u001b[0;34m(self, item)\u001b[0m\n\u001b[1;32m   1532\u001b[0m         \u001b[0mres\u001b[0m \u001b[0;34m=\u001b[0m \u001b[0mcache\u001b[0m\u001b[0;34m.\u001b[0m\u001b[0mget\u001b[0m\u001b[0;34m(\u001b[0m\u001b[0mitem\u001b[0m\u001b[0;34m)\u001b[0m\u001b[0;34m\u001b[0m\u001b[0m\n\u001b[1;32m   1533\u001b[0m         \u001b[0;32mif\u001b[0m \u001b[0mres\u001b[0m \u001b[0;32mis\u001b[0m \u001b[0;32mNone\u001b[0m\u001b[0;34m:\u001b[0m\u001b[0;34m\u001b[0m\u001b[0m\n\u001b[0;32m-> 1534\u001b[0;31m             \u001b[0mvalues\u001b[0m \u001b[0;34m=\u001b[0m \u001b[0mself\u001b[0m\u001b[0;34m.\u001b[0m\u001b[0m_data\u001b[0m\u001b[0;34m.\u001b[0m\u001b[0mget\u001b[0m\u001b[0;34m(\u001b[0m\u001b[0mitem\u001b[0m\u001b[0;34m)\u001b[0m\u001b[0;34m\u001b[0m\u001b[0m\n\u001b[0m\u001b[1;32m   1535\u001b[0m             \u001b[0mres\u001b[0m \u001b[0;34m=\u001b[0m \u001b[0mself\u001b[0m\u001b[0;34m.\u001b[0m\u001b[0m_box_item_values\u001b[0m\u001b[0;34m(\u001b[0m\u001b[0mitem\u001b[0m\u001b[0;34m,\u001b[0m \u001b[0mvalues\u001b[0m\u001b[0;34m)\u001b[0m\u001b[0;34m\u001b[0m\u001b[0m\n\u001b[1;32m   1536\u001b[0m             \u001b[0mcache\u001b[0m\u001b[0;34m[\u001b[0m\u001b[0mitem\u001b[0m\u001b[0;34m]\u001b[0m \u001b[0;34m=\u001b[0m \u001b[0mres\u001b[0m\u001b[0;34m\u001b[0m\u001b[0m\n",
      "\u001b[0;32m/Users/DianaCarolina/anaconda/envs/py35/lib/python3.5/site-packages/pandas/core/internals.py\u001b[0m in \u001b[0;36mget\u001b[0;34m(self, item, fastpath)\u001b[0m\n\u001b[1;32m   3588\u001b[0m \u001b[0;34m\u001b[0m\u001b[0m\n\u001b[1;32m   3589\u001b[0m             \u001b[0;32mif\u001b[0m \u001b[0;32mnot\u001b[0m \u001b[0misnull\u001b[0m\u001b[0;34m(\u001b[0m\u001b[0mitem\u001b[0m\u001b[0;34m)\u001b[0m\u001b[0;34m:\u001b[0m\u001b[0;34m\u001b[0m\u001b[0m\n\u001b[0;32m-> 3590\u001b[0;31m                 \u001b[0mloc\u001b[0m \u001b[0;34m=\u001b[0m \u001b[0mself\u001b[0m\u001b[0;34m.\u001b[0m\u001b[0mitems\u001b[0m\u001b[0;34m.\u001b[0m\u001b[0mget_loc\u001b[0m\u001b[0;34m(\u001b[0m\u001b[0mitem\u001b[0m\u001b[0;34m)\u001b[0m\u001b[0;34m\u001b[0m\u001b[0m\n\u001b[0m\u001b[1;32m   3591\u001b[0m             \u001b[0;32melse\u001b[0m\u001b[0;34m:\u001b[0m\u001b[0;34m\u001b[0m\u001b[0m\n\u001b[1;32m   3592\u001b[0m                 \u001b[0mindexer\u001b[0m \u001b[0;34m=\u001b[0m \u001b[0mnp\u001b[0m\u001b[0;34m.\u001b[0m\u001b[0marange\u001b[0m\u001b[0;34m(\u001b[0m\u001b[0mlen\u001b[0m\u001b[0;34m(\u001b[0m\u001b[0mself\u001b[0m\u001b[0;34m.\u001b[0m\u001b[0mitems\u001b[0m\u001b[0;34m)\u001b[0m\u001b[0;34m)\u001b[0m\u001b[0;34m[\u001b[0m\u001b[0misnull\u001b[0m\u001b[0;34m(\u001b[0m\u001b[0mself\u001b[0m\u001b[0;34m.\u001b[0m\u001b[0mitems\u001b[0m\u001b[0;34m)\u001b[0m\u001b[0;34m]\u001b[0m\u001b[0;34m\u001b[0m\u001b[0m\n",
      "\u001b[0;32m/Users/DianaCarolina/anaconda/envs/py35/lib/python3.5/site-packages/pandas/core/indexes/base.py\u001b[0m in \u001b[0;36mget_loc\u001b[0;34m(self, key, method, tolerance)\u001b[0m\n\u001b[1;32m   2393\u001b[0m                 \u001b[0;32mreturn\u001b[0m \u001b[0mself\u001b[0m\u001b[0;34m.\u001b[0m\u001b[0m_engine\u001b[0m\u001b[0;34m.\u001b[0m\u001b[0mget_loc\u001b[0m\u001b[0;34m(\u001b[0m\u001b[0mkey\u001b[0m\u001b[0;34m)\u001b[0m\u001b[0;34m\u001b[0m\u001b[0m\n\u001b[1;32m   2394\u001b[0m             \u001b[0;32mexcept\u001b[0m \u001b[0mKeyError\u001b[0m\u001b[0;34m:\u001b[0m\u001b[0;34m\u001b[0m\u001b[0m\n\u001b[0;32m-> 2395\u001b[0;31m                 \u001b[0;32mreturn\u001b[0m \u001b[0mself\u001b[0m\u001b[0;34m.\u001b[0m\u001b[0m_engine\u001b[0m\u001b[0;34m.\u001b[0m\u001b[0mget_loc\u001b[0m\u001b[0;34m(\u001b[0m\u001b[0mself\u001b[0m\u001b[0;34m.\u001b[0m\u001b[0m_maybe_cast_indexer\u001b[0m\u001b[0;34m(\u001b[0m\u001b[0mkey\u001b[0m\u001b[0;34m)\u001b[0m\u001b[0;34m)\u001b[0m\u001b[0;34m\u001b[0m\u001b[0m\n\u001b[0m\u001b[1;32m   2396\u001b[0m \u001b[0;34m\u001b[0m\u001b[0m\n\u001b[1;32m   2397\u001b[0m         \u001b[0mindexer\u001b[0m \u001b[0;34m=\u001b[0m \u001b[0mself\u001b[0m\u001b[0;34m.\u001b[0m\u001b[0mget_indexer\u001b[0m\u001b[0;34m(\u001b[0m\u001b[0;34m[\u001b[0m\u001b[0mkey\u001b[0m\u001b[0;34m]\u001b[0m\u001b[0;34m,\u001b[0m \u001b[0mmethod\u001b[0m\u001b[0;34m=\u001b[0m\u001b[0mmethod\u001b[0m\u001b[0;34m,\u001b[0m \u001b[0mtolerance\u001b[0m\u001b[0;34m=\u001b[0m\u001b[0mtolerance\u001b[0m\u001b[0;34m)\u001b[0m\u001b[0;34m\u001b[0m\u001b[0m\n",
      "\u001b[0;32mpandas/_libs/index.pyx\u001b[0m in \u001b[0;36mpandas._libs.index.IndexEngine.get_loc (pandas/_libs/index.c:5239)\u001b[0;34m()\u001b[0m\n",
      "\u001b[0;32mpandas/_libs/index.pyx\u001b[0m in \u001b[0;36mpandas._libs.index.IndexEngine.get_loc (pandas/_libs/index.c:5085)\u001b[0;34m()\u001b[0m\n",
      "\u001b[0;32mpandas/_libs/hashtable_class_helper.pxi\u001b[0m in \u001b[0;36mpandas._libs.hashtable.PyObjectHashTable.get_item (pandas/_libs/hashtable.c:20405)\u001b[0;34m()\u001b[0m\n",
      "\u001b[0;32mpandas/_libs/hashtable_class_helper.pxi\u001b[0m in \u001b[0;36mpandas._libs.hashtable.PyObjectHashTable.get_item (pandas/_libs/hashtable.c:20359)\u001b[0;34m()\u001b[0m\n",
      "\u001b[0;31mKeyError\u001b[0m: 'y_poly'"
     ]
    }
   ],
   "source": [
    "for num in features_num:\n",
    "    print(num)\n",
    "    features_sel = dict.fromkeys(list(ec),0)\n",
    "    y_true = np.zeros(samples)\n",
    "    y_pred_rbf = np.zeros(samples)\n",
    "    c_val_rbf = np.zeros(samples)\n",
    "    gamma_val_rbf = np.zeros(samples)\n",
    "    for i in range(samples):\n",
    "        print('iteracion %d para %d features' %(i,num))\n",
    "        train_full = ec.loc[ec.index != ec.index[i]]\n",
    "        start_time = time.time()\n",
    "        train = train_full[features_per_i[i][0:num]]\n",
    "        print(\"--- %s seconds for feature selection ---\" % (time.time() - start_time))\n",
    "        print('features selected')\n",
    "        test = ec.loc[ec.index == ec.index[i]]\n",
    "        test = test[features_per_i[i][0:num]]\n",
    "        y_train = info['braak_bin'].loc[train.index]\n",
    "        y_true[i] = info['braak_bin'].loc[test.index]\n",
    "        if(((i < iters_big) & (num > big_small)) | ((i < iters_small) & (num < big_small))):\n",
    "            print('entro primeros')\n",
    "            (y_pred_rbf[i], c_val_rbf[i], gamma_val_rbf[i]) = SVM_rbf(train, y_train, test)\n",
    "        elif((i >= iters_big) & (num > big_small)):\n",
    "            print('entro big iters')\n",
    "            (y_pred_rbf[i], c_val_rbf[i], gamma_val_rbf[i]) = SVM_rbf(train, y_train, test,\n",
    "            C_range = np.unique(c_val_rbf[0:iters_big]),gamma_range = np.unique(gamma_val_rbf[0:iters_big]))\n",
    "        elif((i >= iters_small) & (num < big_small)):\n",
    "            print('entro small iters')\n",
    "            (y_pred_rbf[i], c_val_rbf[i], gamma_val_rbf[i]) = SVM_rbf(train, y_train, test,\n",
    "            C_range = np.unique(c_val_rbf[0:iters_small]),gamma_range = np.unique(gamma_val_rbf[0:iters_small]))\n",
    "    parameters = pd.DataFrame(\n",
    "    {'C_rbf': c_val_rbf,\n",
    "     'gamma_rbf': gamma_val_rbf,\n",
    "    })\n",
    "    pickle.dump(parameters, open(save_file + \"/params_%s_%s_%d.p\" %(tissue, feat_sel, num), \"wb\"))\n",
    "    predictions = pd.DataFrame(\n",
    "    {'y_true': y_true,\n",
    "     'y_rbf': y_pred_rbf,\n",
    "    })\n",
    "    pickle.dump(predictions, open(save_file + \"/pred_%s_%s_%d.p\" %(tissue, feat_sel, num), \"wb\"))\n",
    "    #pickle.dump(features_sel, open(save_file + \"/feat_%s_%s_%d.p\" %(tissue, feat_sel, num), \"wb\"))\n",
    "    #features_sel_total = {key: value + [features_sel[key]] for key, value in features_sel_total.items()}\n",
    "    #svm_accuracy[num] = [np.where((predictions['y_true']==predictions['y_rbf'])==True)[0].shape[0]/samples,\n",
    "    #                    np.where((predictions['y_true']==predictions['y_poly'])==True)[0].shape[0]/samples,\n",
    "    #                    np.where((predictions['y_true']==predictions['y_lin'])==True)[0].shape[0]/samples]\n",
    "#pickle.dump(svm_accuracy, open(save_file + \"/accuracy_%s_%s.p\" % (tissue, feat_sel), \"wb\"))"
   ]
  },
  {
   "cell_type": "code",
   "execution_count": null,
   "metadata": {},
   "outputs": [],
   "source": [
    "save_file = os.path.realpath('../data_str_pr_general/')\n",
    "tissue = 'EC'\n",
    "feat_sel = 't_test'\n",
    "predictionsNOW = pickle.load( open( save_file + \"/pred_%s_%s_%d.p\" %(tissue, feat_sel, num), \"rb\" ) )"
   ]
  },
  {
   "cell_type": "code",
   "execution_count": null,
   "metadata": {
    "collapsed": true
   },
   "outputs": [],
   "source": [
    "save_file = os.path.realpath('../DATA/t_test')\n",
    "tissue = 'EC'\n",
    "feat_sel = 't_test'\n",
    "predictionsBEF = pickle.load( open( save_file + \"/pred_%s_%s_%d.p\" %(tissue, feat_sel, num), \"rb\" ) )"
   ]
  },
  {
   "cell_type": "code",
   "execution_count": null,
   "metadata": {},
   "outputs": [],
   "source": []
  },
  {
   "cell_type": "code",
   "execution_count": null,
   "metadata": {},
   "outputs": [],
   "source": []
  },
  {
   "cell_type": "code",
   "execution_count": null,
   "metadata": {},
   "outputs": [],
   "source": []
  },
  {
   "cell_type": "code",
   "execution_count": 31,
   "metadata": {},
   "outputs": [],
   "source": [
    "def SVM_rbf(train, y_train, test,C_range = np.logspace(-2, 10, 13),gamma_range = np.logspace(-9, 3, 13)):\n",
    "    #C_range = np.logspace(-2, 10, 13)\n",
    "    #gamma_range = np.logspace(-9, 3, 13)\n",
    "    #C_range = np.logspace(-2, 10, 6)\n",
    "    #gamma_range = np.logspace(-6, 3, 8)\n",
    "    #rbf\n",
    "    print('SVM-rbf')\n",
    "    param_grid = [{'C': C_range, 'gamma': gamma_range, 'kernel': ['rbf']}]\n",
    "\n",
    "    svr = svm.SVC(random_state=1234)\n",
    "    clf = GridSearchCV(svr, param_grid, cv=5, verbose=1)\n",
    "    clf.fit(train, y_train)\n",
    "    y_rbf = clf.predict(test)[0]\n",
    "    c_rbf = clf.best_params_['C']\n",
    "    gamma_rbf = clf.best_params_['gamma']\n",
    "    return (y_rbf, c_rbf, gamma_rbf)"
   ]
  },
  {
   "cell_type": "code",
   "execution_count": null,
   "metadata": {
    "collapsed": true
   },
   "outputs": [],
   "source": []
  }
 ],
 "metadata": {
  "kernelspec": {
   "display_name": "Python 3",
   "language": "python",
   "name": "python3"
  },
  "language_info": {
   "codemirror_mode": {
    "name": "ipython",
    "version": 3
   },
   "file_extension": ".py",
   "mimetype": "text/x-python",
   "name": "python",
   "nbconvert_exporter": "python",
   "pygments_lexer": "ipython3",
   "version": "3.5.3"
  }
 },
 "nbformat": 4,
 "nbformat_minor": 2
}
