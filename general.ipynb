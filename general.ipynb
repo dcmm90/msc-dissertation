{
 "cells": [
  {
   "cell_type": "code",
   "execution_count": 64,
   "metadata": {},
   "outputs": [
    {
     "name": "stderr",
     "output_type": "stream",
     "text": [
      "Exception ignored in: 'zmq.backend.cython.message.Frame.__dealloc__'\n",
      "Traceback (most recent call last):\n",
      "  File \"zmq/backend/cython/checkrc.pxd\", line 12, in zmq.backend.cython.checkrc._check_rc (zmq/backend/cython/message.c:4294)\n",
      "KeyboardInterrupt\n"
     ]
    }
   ],
   "source": [
    "from __future__ import division\n",
    "import time\n",
    "import pandas as pd\n",
    "import numpy as np\n",
    "from sklearn.metrics import classification_report\n",
    "from sklearn.model_selection import StratifiedKFold\n",
    "import pickle\n",
    "import os.path\n",
    "from zipfile import ZipFile\n",
    "import sys, os\n",
    "from os.path import join, dirname, abspath\n",
    "from pathlib import Path\n",
    "import classification as cl\n",
    "import feature_selection as fs\n",
    "%matplotlib inline\n",
    "import pandas as pd\n",
    "import numpy as np\n",
    "from sklearn.decomposition import PCA\n",
    "import matplotlib.pyplot as plt\n",
    "from sklearn.preprocessing import StandardScaler\n",
    "from sklearn.metrics import classification_report\n",
    "import pickle\n",
    "import os.path\n",
    "from zipfile import ZipFile\n",
    "import sys, os\n",
    "\n"
   ]
  },
  {
   "cell_type": "code",
   "execution_count": 2,
   "metadata": {
    "collapsed": true
   },
   "outputs": [],
   "source": [
    "def load_data():\n",
    "    beta_file = os.path.realpath('../GSE59685_betas2.csv.zip')\n",
    "    zipfile = ZipFile(beta_file)\n",
    "    zipfile.getinfo('GSE59685_betas2.csv').file_size += (2 ** 64) - 1\n",
    "    betaqn = pd.read_csv(zipfile.open('GSE59685_betas2.csv'),skiprows=(1,2), index_col=0,sep=',')\n",
    "    betaqn = betaqn.T\n",
    "\n",
    "    info = pd.read_csv('info.csv.zip',index_col=1, compression='zip',sep=',')\n",
    "    info = info.drop('Unnamed: 0', 1)\n",
    "\n",
    "    info.loc[(info.braak_stage=='5') | (info.braak_stage=='6'),'braak_bin'] = 1\n",
    "    cond = ((info.braak_stage=='0') | (info.braak_stage=='1') | (info.braak_stage=='2') |\n",
    "            (info.braak_stage=='3') | (info.braak_stage=='4'))\n",
    "    info.loc[cond ,'braak_bin'] = 0\n",
    "    info.loc[info.source_tissue == 'entorhinal cortex', 'tissue'] = 'EC'\n",
    "    info.loc[info.source_tissue == 'whole blood', 'tissue'] = 'WB'\n",
    "    info.loc[info.source_tissue == 'frontal cortex', 'tissue'] = 'FC'\n",
    "    info.loc[info.source_tissue == 'superior temporal gyrus', 'tissue'] = 'STG'\n",
    "    info.loc[info.source_tissue == 'cerebellum', 'tissue'] = 'CER'\n",
    "    return (betaqn, info)"
   ]
  },
  {
   "cell_type": "code",
   "execution_count": 3,
   "metadata": {
    "collapsed": true
   },
   "outputs": [],
   "source": [
    "betaqn, info = load_data()"
   ]
  },
  {
   "cell_type": "code",
   "execution_count": 6,
   "metadata": {
    "collapsed": true
   },
   "outputs": [],
   "source": [
    "tissue = 'EC'"
   ]
  },
  {
   "cell_type": "code",
   "execution_count": 12,
   "metadata": {
    "collapsed": true
   },
   "outputs": [],
   "source": [
    "save_file = os.path.realpath('../data_str_pr_general/')\n",
    "iters_big = 10\n",
    "iters_small = 30\n",
    "big_small = 200\n",
    "feat_sel = 't_test'\n",
    "\n",
    "ec = betaqn.loc[info[(info.tissue == tissue) & (info.braak_stage != 'Exclude')].index]\n",
    "svm_accuracy = {}\n",
    "samples = ec.shape[0]\n",
    "\n",
    "features_num = [20]\n",
    "\n",
    "features_file = save_file + \"/features_%s_%s.p\" % (tissue, feat_sel)\n",
    "my_file = Path(features_file)\n",
    "if my_file.is_file():\n",
    "    features_per_i = pickle.load( open( features_file, \"rb\" ) )\n",
    "else:\n",
    "    print('no features file')\n",
    "\n"
   ]
  },
  {
   "cell_type": "code",
   "execution_count": 76,
   "metadata": {},
   "outputs": [],
   "source": [
    "num = 20\n",
    "i=0"
   ]
  },
  {
   "cell_type": "code",
   "execution_count": 86,
   "metadata": {},
   "outputs": [
    {
     "data": {
      "text/plain": [
       "(103, 20)"
      ]
     },
     "execution_count": 86,
     "metadata": {},
     "output_type": "execute_result"
    }
   ],
   "source": [
    "train_full = ec.loc[ec.index != ec.index[i]]\n",
    "train = train_full[features_per_i[i][0:num]]\n",
    "test = ec.loc[ec.index == ec.index[i]]\n",
    "test = test[features_per_i[i][0:num]]\n",
    "y_train = info['braak_bin'].loc[train.index]\n",
    "y_test = info['braak_bin'].loc[test.index]\n",
    "train.shape  "
   ]
  },
  {
   "cell_type": "code",
   "execution_count": 87,
   "metadata": {},
   "outputs": [
    {
     "data": {
      "text/plain": [
       "-0.38169361431861348"
      ]
     },
     "execution_count": 87,
     "metadata": {},
     "output_type": "execute_result"
    }
   ],
   "source": [
    "pca = PCA(n_components=2)\n",
    "pca.fit(train)\n",
    "train = pca.transform(train)\n",
    "test = pca.transform(test)\n",
    "test[0][1]"
   ]
  },
  {
   "cell_type": "code",
   "execution_count": 89,
   "metadata": {},
   "outputs": [
    {
     "name": "stderr",
     "output_type": "stream",
     "text": [
      "/Users/DianaCarolina/anaconda/envs/py35/lib/python3.5/site-packages/ipykernel_launcher.py:10: VisibleDeprecationWarning: boolean index did not match indexed array along dimension 0; dimension is 104 but corresponding boolean dimension is 103\n",
      "  # Remove the CWD from sys.path while we load stuff.\n",
      "/Users/DianaCarolina/anaconda/envs/py35/lib/python3.5/site-packages/ipykernel_launcher.py:11: VisibleDeprecationWarning: boolean index did not match indexed array along dimension 0; dimension is 104 but corresponding boolean dimension is 103\n",
      "  # This is added back by InteractiveShellApp.init_path()\n"
     ]
    },
    {
     "data": {
      "image/png": "[encoded data removed]",
      "text/plain": [
       "<matplotlib.figure.Figure at 0x136f00f98>"
      ]
     },
     "metadata": {},
     "output_type": "display_data"
    }
   ],
   "source": [
    "labels = y_train\n",
    "labels = np.array(labels)\n",
    "ec1 = StandardScaler().fit_transform(ec)\n",
    "pca_2 = PCA(2)\n",
    "plot_columns = pca_2.fit_transform(ec1)\n",
    "target_names = ['0','1']\n",
    "with plt.style.context('seaborn-whitegrid'):\n",
    "    plt.figure(figsize=(8, 6))\n",
    "    for c, i, target_name in zip(['royalblue','purple'],[0,1], target_names, ):\n",
    "        plt.scatter(x=plot_columns[labels==i,0],\n",
    "                    y=plot_columns[labels==i,1],\n",
    "                    c=c, label=target_name, s=80)\n",
    "    if(int(y_test)==0.0):\n",
    "        plt.scatter(test[0][0],test[0][1],marker='^', color='lightskyblue',s=90)\n",
    "    else:\n",
    "        plt.scatter(test[0][0],test[0][1],marker='s', color='salmon',s=90)\n",
    "    plt.xlabel('PC1 (%.2f %% explained var.)' % (pca_2.explained_variance_ratio_[0] * 100))\n",
    "    plt.ylabel('PC2 (%.2f %% explained var.)' % (pca_2.explained_variance_ratio_[1] * 100))\n",
    "    plt.legend(title='braak-stage', bbox_to_anchor=(1.05, 1), loc=2, borderaxespad=0., fontsize=13)\n",
    "    plt.title('PCA for tissue: %s - ALL' %tissue)\n",
    "    plt.show()"
   ]
  },
  {
   "cell_type": "code",
   "execution_count": 182,
   "metadata": {
    "collapsed": true
   },
   "outputs": [],
   "source": [
    "num = 20\n",
    "i=3"
   ]
  },
  {
   "cell_type": "code",
   "execution_count": 183,
   "metadata": {},
   "outputs": [
    {
     "data": {
      "text/html": [
       "<div>\n",
       "<style>\n",
       "    .dataframe thead tr:only-child th {\n",
       "        text-align: right;\n",
       "    }\n",
       "\n",
       "    .dataframe thead th {\n",
       "        text-align: left;\n",
       "    }\n",
       "\n",
       "    .dataframe tbody tr th {\n",
       "        vertical-align: top;\n",
       "    }\n",
       "</style>\n",
       "<table border=\"1\" class=\"dataframe\">\n",
       "  <thead>\n",
       "    <tr style=\"text-align: right;\">\n",
       "      <th></th>\n",
       "      <th>cg06432309</th>\n",
       "      <th>cg02299007</th>\n",
       "      <th>rs133860</th>\n",
       "      <th>cg08223534</th>\n",
       "      <th>rs10882854</th>\n",
       "      <th>cg16792234</th>\n",
       "      <th>cg09449747</th>\n",
       "      <th>cg26679884</th>\n",
       "      <th>cg24697097</th>\n",
       "      <th>cg01502466</th>\n",
       "      <th>cg25977769</th>\n",
       "      <th>cg25445671</th>\n",
       "      <th>cg14341177</th>\n",
       "      <th>cg24861399</th>\n",
       "      <th>cg04234412</th>\n",
       "      <th>cg07973125</th>\n",
       "      <th>cg09284209</th>\n",
       "      <th>cg11478607</th>\n",
       "      <th>cg24336839</th>\n",
       "      <th>cg08253809</th>\n",
       "    </tr>\n",
       "    <tr>\n",
       "      <th>barcode</th>\n",
       "      <th></th>\n",
       "      <th></th>\n",
       "      <th></th>\n",
       "      <th></th>\n",
       "      <th></th>\n",
       "      <th></th>\n",
       "      <th></th>\n",
       "      <th></th>\n",
       "      <th></th>\n",
       "      <th></th>\n",
       "      <th></th>\n",
       "      <th></th>\n",
       "      <th></th>\n",
       "      <th></th>\n",
       "      <th></th>\n",
       "      <th></th>\n",
       "      <th></th>\n",
       "      <th></th>\n",
       "      <th></th>\n",
       "      <th></th>\n",
       "    </tr>\n",
       "  </thead>\n",
       "  <tbody>\n",
       "    <tr>\n",
       "      <th>6969568087_R03C01</th>\n",
       "      <td>0.526064</td>\n",
       "      <td>0.832563</td>\n",
       "      <td>0.545909</td>\n",
       "      <td>0.090633</td>\n",
       "      <td>0.511346</td>\n",
       "      <td>0.117294</td>\n",
       "      <td>0.790682</td>\n",
       "      <td>0.317024</td>\n",
       "      <td>0.586105</td>\n",
       "      <td>0.134564</td>\n",
       "      <td>0.893161</td>\n",
       "      <td>0.680688</td>\n",
       "      <td>0.796514</td>\n",
       "      <td>0.110809</td>\n",
       "      <td>0.254176</td>\n",
       "      <td>0.443206</td>\n",
       "      <td>0.874614</td>\n",
       "      <td>0.046295</td>\n",
       "      <td>0.049305</td>\n",
       "      <td>0.226306</td>\n",
       "    </tr>\n",
       "  </tbody>\n",
       "</table>\n",
       "</div>"
      ],
      "text/plain": [
       "                   cg06432309  cg02299007  rs133860  cg08223534  rs10882854  \\\n",
       "barcode                                                                       \n",
       "6969568087_R03C01    0.526064    0.832563  0.545909    0.090633    0.511346   \n",
       "\n",
       "                   cg16792234  cg09449747  cg26679884  cg24697097  cg01502466  \\\n",
       "barcode                                                                         \n",
       "6969568087_R03C01    0.117294    0.790682    0.317024    0.586105    0.134564   \n",
       "\n",
       "                   cg25977769  cg25445671  cg14341177  cg24861399  cg04234412  \\\n",
       "barcode                                                                         \n",
       "6969568087_R03C01    0.893161    0.680688    0.796514    0.110809    0.254176   \n",
       "\n",
       "                   cg07973125  cg09284209  cg11478607  cg24336839  cg08253809  \n",
       "barcode                                                                        \n",
       "6969568087_R03C01    0.443206    0.874614    0.046295    0.049305    0.226306  "
      ]
     },
     "execution_count": 183,
     "metadata": {},
     "output_type": "execute_result"
    }
   ],
   "source": [
    "train_full = ec.loc[ec.index != ec.index[i]]\n",
    "train = ec[features_per_i[i][0:num]]\n",
    "test = ec.loc[ec.index == ec.index[i]]\n",
    "test = test[features_per_i[i][0:num]]\n",
    "y_train = info['braak_bin'].loc[train.index]\n",
    "y_test = info['braak_bin'].loc[test.index]\n",
    "test"
   ]
  },
  {
   "cell_type": "code",
   "execution_count": 184,
   "metadata": {},
   "outputs": [
    {
     "data": {
      "text/plain": [
       "-0.46844068896898283"
      ]
     },
     "execution_count": 184,
     "metadata": {},
     "output_type": "execute_result"
    }
   ],
   "source": [
    "pca = PCA(n_components=2)\n",
    "pca.fit(train)\n",
    "train = pca.transform(train)\n",
    "test = pca.transform(test)\n",
    "test[0][0]"
   ]
  },
  {
   "cell_type": "code",
   "execution_count": 186,
   "metadata": {},
   "outputs": [
    {
     "data": {
      "image/png": "[encoded data removed]",
      "text/plain": [
       "<matplotlib.figure.Figure at 0x136eb4588>"
      ]
     },
     "metadata": {},
     "output_type": "display_data"
    }
   ],
   "source": [
    "labels = y_train\n",
    "labels = np.array(labels)\n",
    "plot_columns = train\n",
    "target_names = ['0','1']\n",
    "with plt.style.context('seaborn-whitegrid'):\n",
    "    plt.figure(figsize=(8, 6))\n",
    "    for c, i, target_name in zip(['royalblue','purple'],[0,1], target_names, ):\n",
    "        plt.scatter(x=plot_columns[labels==i,0],\n",
    "                    y=plot_columns[labels==i,1],\n",
    "                    c=c, label=target_name, s=80)\n",
    "        plt.scatter(test[0][0],test[0][1],marker='^', color='salmon',s=90)\n",
    "    plt.xlabel('PC1 (%.2f %% explained var.)' % (pca_2.explained_variance_ratio_[0] * 100))\n",
    "    plt.ylabel('PC2 (%.2f %% explained var.)' % (pca_2.explained_variance_ratio_[1] * 100))\n",
    "    plt.legend(title='braak-stage', bbox_to_anchor=(1.05, 1), loc=2, borderaxespad=0., fontsize=13)\n",
    "    plt.title('PCA for tissue: %s - ALL' %tissue)\n",
    "    plt.show()"
   ]
  },
  {
   "cell_type": "code",
   "execution_count": 104,
   "metadata": {},
   "outputs": [],
   "source": [
    "save_file = os.path.realpath('../data_str_pr_general/')\n",
    "tissue = 'EC'\n",
    "feat_sel = 't_test'\n",
    "predictionsNOW = pickle.load( open( save_file + \"/pred_%s_%s_%d.p\" %(tissue, feat_sel, num), \"rb\" ) )"
   ]
  },
  {
   "cell_type": "code",
   "execution_count": 94,
   "metadata": {},
   "outputs": [
    {
     "data": {
      "text/plain": [
       "1"
      ]
     },
     "execution_count": 94,
     "metadata": {},
     "output_type": "execute_result"
    }
   ],
   "source": [
    "i"
   ]
  },
  {
   "cell_type": "code",
   "execution_count": 38,
   "metadata": {
    "collapsed": true
   },
   "outputs": [],
   "source": [
    "save_file = os.path.realpath('../DATA/t_test')\n",
    "tissue = 'EC'\n",
    "feat_sel = 't_test'\n",
    "predictionsBEF = pickle.load( open( save_file + \"/pred_%s_%s_%d.p\" %(tissue, feat_sel, num), \"rb\" ) )"
   ]
  },
  {
   "cell_type": "code",
   "execution_count": 62,
   "metadata": {},
   "outputs": [
    {
     "data": {
      "text/plain": [
       "array([[ 0.,  0.,  0.,  0.,  0.],\n",
       "       [ 0.,  1.,  1.,  1.,  1.],\n",
       "       [ 0.,  1.,  1.,  1.,  1.],\n",
       "       [ 0.,  0.,  0.,  0.,  0.],\n",
       "       [ 0.,  1.,  1.,  1.,  0.],\n",
       "       [ 0.,  0.,  0.,  0.,  0.],\n",
       "       [ 0.,  1.,  1.,  1.,  1.],\n",
       "       [ 1.,  0.,  0.,  0.,  0.],\n",
       "       [ 1.,  1.,  1.,  1.,  1.],\n",
       "       [ 1.,  1.,  1.,  1.,  1.],\n",
       "       [ 1.,  0.,  0.,  0.,  0.],\n",
       "       [ 1.,  0.,  0.,  0.,  0.],\n",
       "       [ 0.,  0.,  0.,  0.,  0.],\n",
       "       [ 1.,  1.,  1.,  1.,  1.],\n",
       "       [ 1.,  1.,  1.,  1.,  1.],\n",
       "       [ 1.,  1.,  1.,  1.,  0.],\n",
       "       [ 1.,  0.,  0.,  1.,  0.],\n",
       "       [ 1.,  0.,  0.,  1.,  0.],\n",
       "       [ 1.,  1.,  1.,  1.,  1.],\n",
       "       [ 1.,  1.,  1.,  1.,  1.],\n",
       "       [ 0.,  1.,  1.,  1.,  1.],\n",
       "       [ 1.,  0.,  0.,  1.,  0.],\n",
       "       [ 0.,  1.,  1.,  0.,  1.],\n",
       "       [ 1.,  1.,  1.,  0.,  1.],\n",
       "       [ 1.,  1.,  1.,  1.,  1.],\n",
       "       [ 1.,  1.,  1.,  1.,  1.],\n",
       "       [ 1.,  0.,  0.,  0.,  1.],\n",
       "       [ 1.,  1.,  1.,  1.,  1.],\n",
       "       [ 1.,  1.,  1.,  1.,  1.],\n",
       "       [ 1.,  1.,  1.,  1.,  1.],\n",
       "       [ 1.,  0.,  0.,  0.,  0.],\n",
       "       [ 1.,  0.,  0.,  1.,  1.],\n",
       "       [ 1.,  0.,  0.,  0.,  1.],\n",
       "       [ 1.,  1.,  1.,  1.,  1.],\n",
       "       [ 1.,  1.,  1.,  1.,  0.],\n",
       "       [ 1.,  1.,  1.,  1.,  1.],\n",
       "       [ 0.,  1.,  1.,  1.,  1.],\n",
       "       [ 0.,  1.,  1.,  1.,  0.],\n",
       "       [ 0.,  0.,  0.,  0.,  0.],\n",
       "       [ 1.,  1.,  1.,  1.,  1.],\n",
       "       [ 0.,  1.,  1.,  0.,  0.],\n",
       "       [ 0.,  1.,  1.,  1.,  1.],\n",
       "       [ 1.,  1.,  1.,  1.,  1.],\n",
       "       [ 0.,  1.,  1.,  1.,  1.],\n",
       "       [ 0.,  1.,  1.,  1.,  1.],\n",
       "       [ 1.,  0.,  0.,  1.,  0.],\n",
       "       [ 1.,  1.,  1.,  1.,  1.],\n",
       "       [ 0.,  0.,  0.,  1.,  1.],\n",
       "       [ 0.,  1.,  1.,  1.,  1.],\n",
       "       [ 0.,  0.,  0.,  0.,  0.],\n",
       "       [ 0.,  1.,  1.,  1.,  1.],\n",
       "       [ 1.,  1.,  1.,  1.,  1.],\n",
       "       [ 0.,  0.,  0.,  0.,  0.],\n",
       "       [ 0.,  0.,  0.,  0.,  0.],\n",
       "       [ 0.,  0.,  0.,  0.,  0.],\n",
       "       [ 1.,  1.,  1.,  1.,  1.],\n",
       "       [ 1.,  0.,  0.,  0.,  0.],\n",
       "       [ 1.,  0.,  0.,  0.,  0.],\n",
       "       [ 0.,  0.,  0.,  0.,  0.],\n",
       "       [ 1.,  0.,  0.,  0.,  0.],\n",
       "       [ 0.,  1.,  1.,  1.,  1.],\n",
       "       [ 1.,  1.,  1.,  1.,  1.],\n",
       "       [ 1.,  0.,  0.,  0.,  0.],\n",
       "       [ 1.,  1.,  1.,  1.,  1.],\n",
       "       [ 1.,  1.,  1.,  1.,  1.],\n",
       "       [ 1.,  0.,  0.,  0.,  0.],\n",
       "       [ 1.,  1.,  1.,  1.,  1.],\n",
       "       [ 1.,  1.,  1.,  1.,  1.],\n",
       "       [ 1.,  1.,  1.,  0.,  1.],\n",
       "       [ 0.,  0.,  0.,  0.,  0.],\n",
       "       [ 0.,  1.,  1.,  1.,  1.],\n",
       "       [ 1.,  1.,  1.,  1.,  1.],\n",
       "       [ 1.,  1.,  1.,  1.,  1.],\n",
       "       [ 1.,  0.,  0.,  0.,  1.],\n",
       "       [ 0.,  1.,  1.,  1.,  1.],\n",
       "       [ 1.,  1.,  1.,  1.,  1.],\n",
       "       [ 1.,  1.,  1.,  1.,  1.],\n",
       "       [ 1.,  1.,  1.,  1.,  1.],\n",
       "       [ 0.,  1.,  1.,  1.,  1.],\n",
       "       [ 1.,  1.,  1.,  1.,  1.],\n",
       "       [ 0.,  1.,  1.,  1.,  1.],\n",
       "       [ 0.,  1.,  1.,  1.,  0.],\n",
       "       [ 1.,  0.,  0.,  0.,  0.],\n",
       "       [ 1.,  1.,  1.,  1.,  1.],\n",
       "       [ 1.,  0.,  0.,  0.,  0.],\n",
       "       [ 0.,  1.,  1.,  1.,  1.],\n",
       "       [ 1.,  1.,  1.,  0.,  1.],\n",
       "       [ 0.,  0.,  0.,  0.,  0.],\n",
       "       [ 1.,  0.,  0.,  0.,  0.],\n",
       "       [ 1.,  1.,  1.,  1.,  1.],\n",
       "       [ 1.,  1.,  1.,  1.,  1.],\n",
       "       [ 0.,  0.,  0.,  0.,  0.],\n",
       "       [ 1.,  1.,  1.,  1.,  0.],\n",
       "       [ 0.,  0.,  0.,  0.,  0.],\n",
       "       [ 0.,  1.,  1.,  0.,  1.],\n",
       "       [ 1.,  1.,  1.,  1.,  1.],\n",
       "       [ 0.,  0.,  0.,  0.,  0.],\n",
       "       [ 0.,  1.,  1.,  1.,  1.],\n",
       "       [ 1.,  1.,  1.,  1.,  1.],\n",
       "       [ 1.,  1.,  1.,  1.,  1.],\n",
       "       [ 1.,  0.,  0.,  0.,  0.],\n",
       "       [ 0.,  0.,  0.,  0.,  0.],\n",
       "       [ 0.,  0.,  0.,  0.,  0.],\n",
       "       [ 0.,  1.,  1.,  1.,  1.]])"
      ]
     },
     "execution_count": 62,
     "metadata": {},
     "output_type": "execute_result"
    }
   ],
   "source": [
    "np.vstack((y_tr,predictionsNOW['y_rbf'],predictionsBEF['y_rbf'],predictionsBEF['y_lin'],predictionsBEF['y_poly'])).T"
   ]
  },
  {
   "cell_type": "code",
   "execution_count": 195,
   "metadata": {},
   "outputs": [
    {
     "data": {
      "text/plain": [
       "0.56730769230769229"
      ]
     },
     "execution_count": 195,
     "metadata": {},
     "output_type": "execute_result"
    }
   ],
   "source": [
    "sum(1-abs(np.array(y_tr)-np.array(predictionsNOW['y_rbf'])))/104"
   ]
  },
  {
   "cell_type": "markdown",
   "metadata": {},
   "source": []
  },
  {
   "cell_type": "code",
   "execution_count": 31,
   "metadata": {},
   "outputs": [],
   "source": [
    "def SVM_rbf(train, y_train, test,C_range = np.logspace(-2, 10, 13),gamma_range = np.logspace(-9, 3, 13)):\n",
    "    #C_range = np.logspace(-2, 10, 13)\n",
    "    #gamma_range = np.logspace(-9, 3, 13)\n",
    "    #C_range = np.logspace(-2, 10, 6)\n",
    "    #gamma_range = np.logspace(-6, 3, 8)\n",
    "    #rbf\n",
    "    print('SVM-rbf')\n",
    "    param_grid = [{'C': C_range, 'gamma': gamma_range, 'kernel': ['rbf']}]\n",
    "\n",
    "    svr = svm.SVC(random_state=1234)\n",
    "    clf = GridSearchCV(svr, param_grid, cv=5, verbose=1)\n",
    "    clf.fit(train, y_train)\n",
    "    y_rbf = clf.predict(test)[0]\n",
    "    c_rbf = clf.best_params_['C']\n",
    "    gamma_rbf = clf.best_params_['gamma']\n",
    "    return (y_rbf, c_rbf, gamma_rbf)"
   ]
  },
  {
   "cell_type": "code",
   "execution_count": null,
   "metadata": {
    "collapsed": true
   },
   "outputs": [],
   "source": []
  }
 ],
 "metadata": {
  "kernelspec": {
   "display_name": "Python 3",
   "language": "python",
   "name": "python3"
  },
  "language_info": {
   "codemirror_mode": {
    "name": "ipython",
    "version": 3
   },
   "file_extension": ".py",
   "mimetype": "text/x-python",
   "name": "python",
   "nbconvert_exporter": "python",
   "pygments_lexer": "ipython3",
   "version": "3.5.3"
  }
 },
 "nbformat": 4,
 "nbformat_minor": 2
}
